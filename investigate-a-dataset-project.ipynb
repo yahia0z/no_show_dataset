{
 "cells": [
  {
   "cell_type": "markdown",
   "metadata": {},
   "source": [
    "\n",
    "# Project: Analyzing No-Show Appointments Among Patients in Brazil \n",
    "\n",
    "## Table of Contents\n",
    "<ul>\n",
    "<li><a href=\"#intro\">Introduction</a></li>\n",
    "<li><a href=\"#wrangling\">Data Wrangling</a></li>\n",
    "<li><a href=\"#eda\">Exploratory Data Analysis</a></li>\n",
    "<li><a href=\"#conclusions\">Conclusions</a></li>\n",
    "</ul>"
   ]
  },
  {
   "cell_type": "markdown",
   "metadata": {},
   "source": [
    "<a id='intro'></a>\n",
    "## Introduction\n",
    "\n",
    "\n",
    "> This dataset collects information from >100k medical appointments in Brazil during May 2016 and is focused on the question of whether or not patients show up for their appointment. A number of characteristics about the patient are included in each row.\n",
    "\n",
    "> ### Variables:\n",
    "> 1. **Independent:** \n",
    ">> <a href='#show'>Showing up for the appointment.</a>\n",
    "> 2. **Dependent:** \n",
    ">> * <a href='#gender'>Gender.</a>\n",
    ">> * <a href='#location'>Location of the hospital.</a>\n",
    ">> * <a href='#enroll'>Enrollment in the welfare program.</a>\n",
    ">> * <a href='#sms'>SMS Confirmation.</a>\n",
    ">> * <a href='#age'>Age</a>\n",
    "\n",
    "> ### Question:\n",
    ">> Which factors have an effect on and can help predict whether the patient shows up for the appointment?\n"
   ]
  },
  {
   "cell_type": "code",
   "execution_count": 1,
   "metadata": {},
   "outputs": [],
   "source": [
    "# importing packages\n",
    "import numpy as np\n",
    "import pandas as pd\n",
    "import matplotlib.pyplot as plt\n",
    "%matplotlib inline"
   ]
  },
  {
   "cell_type": "code",
   "execution_count": 2,
   "metadata": {},
   "outputs": [],
   "source": [
    "# functions\n",
    "def bar(x,y,title):\n",
    "    plt.xlabel(x)\n",
    "    plt.ylabel(y)\n",
    "    plt.title(title);"
   ]
  },
  {
   "cell_type": "markdown",
   "metadata": {},
   "source": [
    "<a id='wrangling'></a>\n",
    "## Data Wrangling\n"
   ]
  },
  {
   "cell_type": "code",
   "execution_count": 3,
   "metadata": {},
   "outputs": [
    {
     "data": {
      "text/html": [
       "<div>\n",
       "<style scoped>\n",
       "    .dataframe tbody tr th:only-of-type {\n",
       "        vertical-align: middle;\n",
       "    }\n",
       "\n",
       "    .dataframe tbody tr th {\n",
       "        vertical-align: top;\n",
       "    }\n",
       "\n",
       "    .dataframe thead th {\n",
       "        text-align: right;\n",
       "    }\n",
       "</style>\n",
       "<table border=\"1\" class=\"dataframe\">\n",
       "  <thead>\n",
       "    <tr style=\"text-align: right;\">\n",
       "      <th></th>\n",
       "      <th>PatientId</th>\n",
       "      <th>AppointmentID</th>\n",
       "      <th>Gender</th>\n",
       "      <th>ScheduledDay</th>\n",
       "      <th>AppointmentDay</th>\n",
       "      <th>Age</th>\n",
       "      <th>Neighbourhood</th>\n",
       "      <th>Scholarship</th>\n",
       "      <th>Hipertension</th>\n",
       "      <th>Diabetes</th>\n",
       "      <th>Alcoholism</th>\n",
       "      <th>Handcap</th>\n",
       "      <th>SMS_received</th>\n",
       "      <th>No-show</th>\n",
       "    </tr>\n",
       "  </thead>\n",
       "  <tbody>\n",
       "    <tr>\n",
       "      <th>0</th>\n",
       "      <td>2.987250e+13</td>\n",
       "      <td>5642903</td>\n",
       "      <td>F</td>\n",
       "      <td>2016-04-29T18:38:08Z</td>\n",
       "      <td>2016-04-29T00:00:00Z</td>\n",
       "      <td>62</td>\n",
       "      <td>JARDIM DA PENHA</td>\n",
       "      <td>0</td>\n",
       "      <td>1</td>\n",
       "      <td>0</td>\n",
       "      <td>0</td>\n",
       "      <td>0</td>\n",
       "      <td>0</td>\n",
       "      <td>No</td>\n",
       "    </tr>\n",
       "    <tr>\n",
       "      <th>1</th>\n",
       "      <td>5.589978e+14</td>\n",
       "      <td>5642503</td>\n",
       "      <td>M</td>\n",
       "      <td>2016-04-29T16:08:27Z</td>\n",
       "      <td>2016-04-29T00:00:00Z</td>\n",
       "      <td>56</td>\n",
       "      <td>JARDIM DA PENHA</td>\n",
       "      <td>0</td>\n",
       "      <td>0</td>\n",
       "      <td>0</td>\n",
       "      <td>0</td>\n",
       "      <td>0</td>\n",
       "      <td>0</td>\n",
       "      <td>No</td>\n",
       "    </tr>\n",
       "    <tr>\n",
       "      <th>2</th>\n",
       "      <td>4.262962e+12</td>\n",
       "      <td>5642549</td>\n",
       "      <td>F</td>\n",
       "      <td>2016-04-29T16:19:04Z</td>\n",
       "      <td>2016-04-29T00:00:00Z</td>\n",
       "      <td>62</td>\n",
       "      <td>MATA DA PRAIA</td>\n",
       "      <td>0</td>\n",
       "      <td>0</td>\n",
       "      <td>0</td>\n",
       "      <td>0</td>\n",
       "      <td>0</td>\n",
       "      <td>0</td>\n",
       "      <td>No</td>\n",
       "    </tr>\n",
       "    <tr>\n",
       "      <th>3</th>\n",
       "      <td>8.679512e+11</td>\n",
       "      <td>5642828</td>\n",
       "      <td>F</td>\n",
       "      <td>2016-04-29T17:29:31Z</td>\n",
       "      <td>2016-04-29T00:00:00Z</td>\n",
       "      <td>8</td>\n",
       "      <td>PONTAL DE CAMBURI</td>\n",
       "      <td>0</td>\n",
       "      <td>0</td>\n",
       "      <td>0</td>\n",
       "      <td>0</td>\n",
       "      <td>0</td>\n",
       "      <td>0</td>\n",
       "      <td>No</td>\n",
       "    </tr>\n",
       "    <tr>\n",
       "      <th>4</th>\n",
       "      <td>8.841186e+12</td>\n",
       "      <td>5642494</td>\n",
       "      <td>F</td>\n",
       "      <td>2016-04-29T16:07:23Z</td>\n",
       "      <td>2016-04-29T00:00:00Z</td>\n",
       "      <td>56</td>\n",
       "      <td>JARDIM DA PENHA</td>\n",
       "      <td>0</td>\n",
       "      <td>1</td>\n",
       "      <td>1</td>\n",
       "      <td>0</td>\n",
       "      <td>0</td>\n",
       "      <td>0</td>\n",
       "      <td>No</td>\n",
       "    </tr>\n",
       "  </tbody>\n",
       "</table>\n",
       "</div>"
      ],
      "text/plain": [
       "      PatientId  AppointmentID Gender          ScheduledDay  \\\n",
       "0  2.987250e+13        5642903      F  2016-04-29T18:38:08Z   \n",
       "1  5.589978e+14        5642503      M  2016-04-29T16:08:27Z   \n",
       "2  4.262962e+12        5642549      F  2016-04-29T16:19:04Z   \n",
       "3  8.679512e+11        5642828      F  2016-04-29T17:29:31Z   \n",
       "4  8.841186e+12        5642494      F  2016-04-29T16:07:23Z   \n",
       "\n",
       "         AppointmentDay  Age      Neighbourhood  Scholarship  Hipertension  \\\n",
       "0  2016-04-29T00:00:00Z   62    JARDIM DA PENHA            0             1   \n",
       "1  2016-04-29T00:00:00Z   56    JARDIM DA PENHA            0             0   \n",
       "2  2016-04-29T00:00:00Z   62      MATA DA PRAIA            0             0   \n",
       "3  2016-04-29T00:00:00Z    8  PONTAL DE CAMBURI            0             0   \n",
       "4  2016-04-29T00:00:00Z   56    JARDIM DA PENHA            0             1   \n",
       "\n",
       "   Diabetes  Alcoholism  Handcap  SMS_received No-show  \n",
       "0         0           0        0             0      No  \n",
       "1         0           0        0             0      No  \n",
       "2         0           0        0             0      No  \n",
       "3         0           0        0             0      No  \n",
       "4         1           0        0             0      No  "
      ]
     },
     "execution_count": 3,
     "metadata": {},
     "output_type": "execute_result"
    }
   ],
   "source": [
    "# Loading the data \n",
    "df = pd.read_csv('NSA_05_2016.csv')\n",
    "df.head()"
   ]
  },
  {
   "cell_type": "code",
   "execution_count": 4,
   "metadata": {},
   "outputs": [
    {
     "data": {
      "text/plain": [
       "(110527, 14)"
      ]
     },
     "execution_count": 4,
     "metadata": {},
     "output_type": "execute_result"
    }
   ],
   "source": [
    "df.shape"
   ]
  },
  {
   "cell_type": "markdown",
   "metadata": {},
   "source": [
    "### Renaming columns for consistency and ease of access:"
   ]
  },
  {
   "cell_type": "code",
   "execution_count": 5,
   "metadata": {},
   "outputs": [
    {
     "data": {
      "text/html": [
       "<div>\n",
       "<style scoped>\n",
       "    .dataframe tbody tr th:only-of-type {\n",
       "        vertical-align: middle;\n",
       "    }\n",
       "\n",
       "    .dataframe tbody tr th {\n",
       "        vertical-align: top;\n",
       "    }\n",
       "\n",
       "    .dataframe thead th {\n",
       "        text-align: right;\n",
       "    }\n",
       "</style>\n",
       "<table border=\"1\" class=\"dataframe\">\n",
       "  <thead>\n",
       "    <tr style=\"text-align: right;\">\n",
       "      <th></th>\n",
       "      <th>patientid</th>\n",
       "      <th>appointmentid</th>\n",
       "      <th>gender</th>\n",
       "      <th>scheduledday</th>\n",
       "      <th>appointmentday</th>\n",
       "      <th>age</th>\n",
       "      <th>neighbourhood</th>\n",
       "      <th>scholarship</th>\n",
       "      <th>hipertension</th>\n",
       "      <th>diabetes</th>\n",
       "      <th>alcoholism</th>\n",
       "      <th>handcap</th>\n",
       "      <th>sms_received</th>\n",
       "      <th>no_show</th>\n",
       "    </tr>\n",
       "  </thead>\n",
       "  <tbody>\n",
       "    <tr>\n",
       "      <th>0</th>\n",
       "      <td>2.987250e+13</td>\n",
       "      <td>5642903</td>\n",
       "      <td>F</td>\n",
       "      <td>2016-04-29T18:38:08Z</td>\n",
       "      <td>2016-04-29T00:00:00Z</td>\n",
       "      <td>62</td>\n",
       "      <td>JARDIM DA PENHA</td>\n",
       "      <td>0</td>\n",
       "      <td>1</td>\n",
       "      <td>0</td>\n",
       "      <td>0</td>\n",
       "      <td>0</td>\n",
       "      <td>0</td>\n",
       "      <td>No</td>\n",
       "    </tr>\n",
       "  </tbody>\n",
       "</table>\n",
       "</div>"
      ],
      "text/plain": [
       "      patientid  appointmentid gender          scheduledday  \\\n",
       "0  2.987250e+13        5642903      F  2016-04-29T18:38:08Z   \n",
       "\n",
       "         appointmentday  age    neighbourhood  scholarship  hipertension  \\\n",
       "0  2016-04-29T00:00:00Z   62  JARDIM DA PENHA            0             1   \n",
       "\n",
       "   diabetes  alcoholism  handcap  sms_received no_show  \n",
       "0         0           0        0             0      No  "
      ]
     },
     "execution_count": 5,
     "metadata": {},
     "output_type": "execute_result"
    }
   ],
   "source": [
    "df.rename(columns=lambda x: x.lower(),inplace=True)\n",
    "df.rename(columns={'no-show':'no_show'}, inplace=True)\n",
    "df.head(1)"
   ]
  },
  {
   "cell_type": "code",
   "execution_count": 6,
   "metadata": {},
   "outputs": [
    {
     "name": "stdout",
     "output_type": "stream",
     "text": [
      "<class 'pandas.core.frame.DataFrame'>\n",
      "RangeIndex: 110527 entries, 0 to 110526\n",
      "Data columns (total 14 columns):\n",
      " #   Column          Non-Null Count   Dtype  \n",
      "---  ------          --------------   -----  \n",
      " 0   patientid       110527 non-null  float64\n",
      " 1   appointmentid   110527 non-null  int64  \n",
      " 2   gender          110527 non-null  object \n",
      " 3   scheduledday    110527 non-null  object \n",
      " 4   appointmentday  110527 non-null  object \n",
      " 5   age             110527 non-null  int64  \n",
      " 6   neighbourhood   110527 non-null  object \n",
      " 7   scholarship     110527 non-null  int64  \n",
      " 8   hipertension    110527 non-null  int64  \n",
      " 9   diabetes        110527 non-null  int64  \n",
      " 10  alcoholism      110527 non-null  int64  \n",
      " 11  handcap         110527 non-null  int64  \n",
      " 12  sms_received    110527 non-null  int64  \n",
      " 13  no_show         110527 non-null  object \n",
      "dtypes: float64(1), int64(8), object(5)\n",
      "memory usage: 11.8+ MB\n"
     ]
    }
   ],
   "source": [
    "df.info()"
   ]
  },
  {
   "cell_type": "code",
   "execution_count": 7,
   "metadata": {},
   "outputs": [
    {
     "data": {
      "text/html": [
       "<div>\n",
       "<style scoped>\n",
       "    .dataframe tbody tr th:only-of-type {\n",
       "        vertical-align: middle;\n",
       "    }\n",
       "\n",
       "    .dataframe tbody tr th {\n",
       "        vertical-align: top;\n",
       "    }\n",
       "\n",
       "    .dataframe thead th {\n",
       "        text-align: right;\n",
       "    }\n",
       "</style>\n",
       "<table border=\"1\" class=\"dataframe\">\n",
       "  <thead>\n",
       "    <tr style=\"text-align: right;\">\n",
       "      <th></th>\n",
       "      <th>patientid</th>\n",
       "      <th>appointmentid</th>\n",
       "      <th>age</th>\n",
       "      <th>scholarship</th>\n",
       "      <th>hipertension</th>\n",
       "      <th>diabetes</th>\n",
       "      <th>alcoholism</th>\n",
       "      <th>handcap</th>\n",
       "      <th>sms_received</th>\n",
       "    </tr>\n",
       "  </thead>\n",
       "  <tbody>\n",
       "    <tr>\n",
       "      <th>count</th>\n",
       "      <td>1.105270e+05</td>\n",
       "      <td>1.105270e+05</td>\n",
       "      <td>110527.000000</td>\n",
       "      <td>110527.000000</td>\n",
       "      <td>110527.000000</td>\n",
       "      <td>110527.000000</td>\n",
       "      <td>110527.000000</td>\n",
       "      <td>110527.000000</td>\n",
       "      <td>110527.000000</td>\n",
       "    </tr>\n",
       "    <tr>\n",
       "      <th>mean</th>\n",
       "      <td>1.474963e+14</td>\n",
       "      <td>5.675305e+06</td>\n",
       "      <td>37.088874</td>\n",
       "      <td>0.098266</td>\n",
       "      <td>0.197246</td>\n",
       "      <td>0.071865</td>\n",
       "      <td>0.030400</td>\n",
       "      <td>0.022248</td>\n",
       "      <td>0.321026</td>\n",
       "    </tr>\n",
       "    <tr>\n",
       "      <th>std</th>\n",
       "      <td>2.560949e+14</td>\n",
       "      <td>7.129575e+04</td>\n",
       "      <td>23.110205</td>\n",
       "      <td>0.297675</td>\n",
       "      <td>0.397921</td>\n",
       "      <td>0.258265</td>\n",
       "      <td>0.171686</td>\n",
       "      <td>0.161543</td>\n",
       "      <td>0.466873</td>\n",
       "    </tr>\n",
       "    <tr>\n",
       "      <th>min</th>\n",
       "      <td>3.921784e+04</td>\n",
       "      <td>5.030230e+06</td>\n",
       "      <td>-1.000000</td>\n",
       "      <td>0.000000</td>\n",
       "      <td>0.000000</td>\n",
       "      <td>0.000000</td>\n",
       "      <td>0.000000</td>\n",
       "      <td>0.000000</td>\n",
       "      <td>0.000000</td>\n",
       "    </tr>\n",
       "    <tr>\n",
       "      <th>25%</th>\n",
       "      <td>4.172614e+12</td>\n",
       "      <td>5.640286e+06</td>\n",
       "      <td>18.000000</td>\n",
       "      <td>0.000000</td>\n",
       "      <td>0.000000</td>\n",
       "      <td>0.000000</td>\n",
       "      <td>0.000000</td>\n",
       "      <td>0.000000</td>\n",
       "      <td>0.000000</td>\n",
       "    </tr>\n",
       "    <tr>\n",
       "      <th>50%</th>\n",
       "      <td>3.173184e+13</td>\n",
       "      <td>5.680573e+06</td>\n",
       "      <td>37.000000</td>\n",
       "      <td>0.000000</td>\n",
       "      <td>0.000000</td>\n",
       "      <td>0.000000</td>\n",
       "      <td>0.000000</td>\n",
       "      <td>0.000000</td>\n",
       "      <td>0.000000</td>\n",
       "    </tr>\n",
       "    <tr>\n",
       "      <th>75%</th>\n",
       "      <td>9.439172e+13</td>\n",
       "      <td>5.725524e+06</td>\n",
       "      <td>55.000000</td>\n",
       "      <td>0.000000</td>\n",
       "      <td>0.000000</td>\n",
       "      <td>0.000000</td>\n",
       "      <td>0.000000</td>\n",
       "      <td>0.000000</td>\n",
       "      <td>1.000000</td>\n",
       "    </tr>\n",
       "    <tr>\n",
       "      <th>max</th>\n",
       "      <td>9.999816e+14</td>\n",
       "      <td>5.790484e+06</td>\n",
       "      <td>115.000000</td>\n",
       "      <td>1.000000</td>\n",
       "      <td>1.000000</td>\n",
       "      <td>1.000000</td>\n",
       "      <td>1.000000</td>\n",
       "      <td>4.000000</td>\n",
       "      <td>1.000000</td>\n",
       "    </tr>\n",
       "  </tbody>\n",
       "</table>\n",
       "</div>"
      ],
      "text/plain": [
       "          patientid  appointmentid            age    scholarship  \\\n",
       "count  1.105270e+05   1.105270e+05  110527.000000  110527.000000   \n",
       "mean   1.474963e+14   5.675305e+06      37.088874       0.098266   \n",
       "std    2.560949e+14   7.129575e+04      23.110205       0.297675   \n",
       "min    3.921784e+04   5.030230e+06      -1.000000       0.000000   \n",
       "25%    4.172614e+12   5.640286e+06      18.000000       0.000000   \n",
       "50%    3.173184e+13   5.680573e+06      37.000000       0.000000   \n",
       "75%    9.439172e+13   5.725524e+06      55.000000       0.000000   \n",
       "max    9.999816e+14   5.790484e+06     115.000000       1.000000   \n",
       "\n",
       "        hipertension       diabetes     alcoholism        handcap  \\\n",
       "count  110527.000000  110527.000000  110527.000000  110527.000000   \n",
       "mean        0.197246       0.071865       0.030400       0.022248   \n",
       "std         0.397921       0.258265       0.171686       0.161543   \n",
       "min         0.000000       0.000000       0.000000       0.000000   \n",
       "25%         0.000000       0.000000       0.000000       0.000000   \n",
       "50%         0.000000       0.000000       0.000000       0.000000   \n",
       "75%         0.000000       0.000000       0.000000       0.000000   \n",
       "max         1.000000       1.000000       1.000000       4.000000   \n",
       "\n",
       "        sms_received  \n",
       "count  110527.000000  \n",
       "mean        0.321026  \n",
       "std         0.466873  \n",
       "min         0.000000  \n",
       "25%         0.000000  \n",
       "50%         0.000000  \n",
       "75%         1.000000  \n",
       "max         1.000000  "
      ]
     },
     "execution_count": 7,
     "metadata": {},
     "output_type": "execute_result"
    }
   ],
   "source": [
    "df.describe()"
   ]
  },
  {
   "cell_type": "markdown",
   "metadata": {},
   "source": [
    "Minimum age is -1 which is not logical."
   ]
  },
  {
   "cell_type": "markdown",
   "metadata": {},
   "source": [
    "### Dropping the illogical age:"
   ]
  },
  {
   "cell_type": "code",
   "execution_count": 8,
   "metadata": {
    "scrolled": true
   },
   "outputs": [
    {
     "data": {
      "text/html": [
       "<div>\n",
       "<style scoped>\n",
       "    .dataframe tbody tr th:only-of-type {\n",
       "        vertical-align: middle;\n",
       "    }\n",
       "\n",
       "    .dataframe tbody tr th {\n",
       "        vertical-align: top;\n",
       "    }\n",
       "\n",
       "    .dataframe thead th {\n",
       "        text-align: right;\n",
       "    }\n",
       "</style>\n",
       "<table border=\"1\" class=\"dataframe\">\n",
       "  <thead>\n",
       "    <tr style=\"text-align: right;\">\n",
       "      <th></th>\n",
       "      <th>patientid</th>\n",
       "      <th>appointmentid</th>\n",
       "      <th>gender</th>\n",
       "      <th>scheduledday</th>\n",
       "      <th>appointmentday</th>\n",
       "      <th>age</th>\n",
       "      <th>neighbourhood</th>\n",
       "      <th>scholarship</th>\n",
       "      <th>hipertension</th>\n",
       "      <th>diabetes</th>\n",
       "      <th>alcoholism</th>\n",
       "      <th>handcap</th>\n",
       "      <th>sms_received</th>\n",
       "      <th>no_show</th>\n",
       "    </tr>\n",
       "  </thead>\n",
       "  <tbody>\n",
       "    <tr>\n",
       "      <th>99832</th>\n",
       "      <td>4.659432e+14</td>\n",
       "      <td>5775010</td>\n",
       "      <td>F</td>\n",
       "      <td>2016-06-06T08:58:13Z</td>\n",
       "      <td>2016-06-06T00:00:00Z</td>\n",
       "      <td>-1</td>\n",
       "      <td>ROMÃO</td>\n",
       "      <td>0</td>\n",
       "      <td>0</td>\n",
       "      <td>0</td>\n",
       "      <td>0</td>\n",
       "      <td>0</td>\n",
       "      <td>0</td>\n",
       "      <td>No</td>\n",
       "    </tr>\n",
       "  </tbody>\n",
       "</table>\n",
       "</div>"
      ],
      "text/plain": [
       "          patientid  appointmentid gender          scheduledday  \\\n",
       "99832  4.659432e+14        5775010      F  2016-06-06T08:58:13Z   \n",
       "\n",
       "             appointmentday  age neighbourhood  scholarship  hipertension  \\\n",
       "99832  2016-06-06T00:00:00Z   -1         ROMÃO            0             0   \n",
       "\n",
       "       diabetes  alcoholism  handcap  sms_received no_show  \n",
       "99832         0           0        0             0      No  "
      ]
     },
     "execution_count": 8,
     "metadata": {},
     "output_type": "execute_result"
    }
   ],
   "source": [
    "df.query('age < 0')"
   ]
  },
  {
   "cell_type": "code",
   "execution_count": 9,
   "metadata": {},
   "outputs": [
    {
     "data": {
      "text/html": [
       "<div>\n",
       "<style scoped>\n",
       "    .dataframe tbody tr th:only-of-type {\n",
       "        vertical-align: middle;\n",
       "    }\n",
       "\n",
       "    .dataframe tbody tr th {\n",
       "        vertical-align: top;\n",
       "    }\n",
       "\n",
       "    .dataframe thead th {\n",
       "        text-align: right;\n",
       "    }\n",
       "</style>\n",
       "<table border=\"1\" class=\"dataframe\">\n",
       "  <thead>\n",
       "    <tr style=\"text-align: right;\">\n",
       "      <th></th>\n",
       "      <th>patientid</th>\n",
       "      <th>appointmentid</th>\n",
       "      <th>gender</th>\n",
       "      <th>scheduledday</th>\n",
       "      <th>appointmentday</th>\n",
       "      <th>age</th>\n",
       "      <th>neighbourhood</th>\n",
       "      <th>scholarship</th>\n",
       "      <th>hipertension</th>\n",
       "      <th>diabetes</th>\n",
       "      <th>alcoholism</th>\n",
       "      <th>handcap</th>\n",
       "      <th>sms_received</th>\n",
       "      <th>no_show</th>\n",
       "    </tr>\n",
       "  </thead>\n",
       "  <tbody>\n",
       "    <tr>\n",
       "      <th>0</th>\n",
       "      <td>2.987250e+13</td>\n",
       "      <td>5642903</td>\n",
       "      <td>F</td>\n",
       "      <td>2016-04-29T18:38:08Z</td>\n",
       "      <td>2016-04-29T00:00:00Z</td>\n",
       "      <td>62</td>\n",
       "      <td>JARDIM DA PENHA</td>\n",
       "      <td>0</td>\n",
       "      <td>1</td>\n",
       "      <td>0</td>\n",
       "      <td>0</td>\n",
       "      <td>0</td>\n",
       "      <td>0</td>\n",
       "      <td>No</td>\n",
       "    </tr>\n",
       "    <tr>\n",
       "      <th>1</th>\n",
       "      <td>5.589978e+14</td>\n",
       "      <td>5642503</td>\n",
       "      <td>M</td>\n",
       "      <td>2016-04-29T16:08:27Z</td>\n",
       "      <td>2016-04-29T00:00:00Z</td>\n",
       "      <td>56</td>\n",
       "      <td>JARDIM DA PENHA</td>\n",
       "      <td>0</td>\n",
       "      <td>0</td>\n",
       "      <td>0</td>\n",
       "      <td>0</td>\n",
       "      <td>0</td>\n",
       "      <td>0</td>\n",
       "      <td>No</td>\n",
       "    </tr>\n",
       "    <tr>\n",
       "      <th>2</th>\n",
       "      <td>4.262962e+12</td>\n",
       "      <td>5642549</td>\n",
       "      <td>F</td>\n",
       "      <td>2016-04-29T16:19:04Z</td>\n",
       "      <td>2016-04-29T00:00:00Z</td>\n",
       "      <td>62</td>\n",
       "      <td>MATA DA PRAIA</td>\n",
       "      <td>0</td>\n",
       "      <td>0</td>\n",
       "      <td>0</td>\n",
       "      <td>0</td>\n",
       "      <td>0</td>\n",
       "      <td>0</td>\n",
       "      <td>No</td>\n",
       "    </tr>\n",
       "    <tr>\n",
       "      <th>3</th>\n",
       "      <td>8.679512e+11</td>\n",
       "      <td>5642828</td>\n",
       "      <td>F</td>\n",
       "      <td>2016-04-29T17:29:31Z</td>\n",
       "      <td>2016-04-29T00:00:00Z</td>\n",
       "      <td>8</td>\n",
       "      <td>PONTAL DE CAMBURI</td>\n",
       "      <td>0</td>\n",
       "      <td>0</td>\n",
       "      <td>0</td>\n",
       "      <td>0</td>\n",
       "      <td>0</td>\n",
       "      <td>0</td>\n",
       "      <td>No</td>\n",
       "    </tr>\n",
       "    <tr>\n",
       "      <th>4</th>\n",
       "      <td>8.841186e+12</td>\n",
       "      <td>5642494</td>\n",
       "      <td>F</td>\n",
       "      <td>2016-04-29T16:07:23Z</td>\n",
       "      <td>2016-04-29T00:00:00Z</td>\n",
       "      <td>56</td>\n",
       "      <td>JARDIM DA PENHA</td>\n",
       "      <td>0</td>\n",
       "      <td>1</td>\n",
       "      <td>1</td>\n",
       "      <td>0</td>\n",
       "      <td>0</td>\n",
       "      <td>0</td>\n",
       "      <td>No</td>\n",
       "    </tr>\n",
       "    <tr>\n",
       "      <th>...</th>\n",
       "      <td>...</td>\n",
       "      <td>...</td>\n",
       "      <td>...</td>\n",
       "      <td>...</td>\n",
       "      <td>...</td>\n",
       "      <td>...</td>\n",
       "      <td>...</td>\n",
       "      <td>...</td>\n",
       "      <td>...</td>\n",
       "      <td>...</td>\n",
       "      <td>...</td>\n",
       "      <td>...</td>\n",
       "      <td>...</td>\n",
       "      <td>...</td>\n",
       "    </tr>\n",
       "    <tr>\n",
       "      <th>110522</th>\n",
       "      <td>2.572134e+12</td>\n",
       "      <td>5651768</td>\n",
       "      <td>F</td>\n",
       "      <td>2016-05-03T09:15:35Z</td>\n",
       "      <td>2016-06-07T00:00:00Z</td>\n",
       "      <td>56</td>\n",
       "      <td>MARIA ORTIZ</td>\n",
       "      <td>0</td>\n",
       "      <td>0</td>\n",
       "      <td>0</td>\n",
       "      <td>0</td>\n",
       "      <td>0</td>\n",
       "      <td>1</td>\n",
       "      <td>No</td>\n",
       "    </tr>\n",
       "    <tr>\n",
       "      <th>110523</th>\n",
       "      <td>3.596266e+12</td>\n",
       "      <td>5650093</td>\n",
       "      <td>F</td>\n",
       "      <td>2016-05-03T07:27:33Z</td>\n",
       "      <td>2016-06-07T00:00:00Z</td>\n",
       "      <td>51</td>\n",
       "      <td>MARIA ORTIZ</td>\n",
       "      <td>0</td>\n",
       "      <td>0</td>\n",
       "      <td>0</td>\n",
       "      <td>0</td>\n",
       "      <td>0</td>\n",
       "      <td>1</td>\n",
       "      <td>No</td>\n",
       "    </tr>\n",
       "    <tr>\n",
       "      <th>110524</th>\n",
       "      <td>1.557663e+13</td>\n",
       "      <td>5630692</td>\n",
       "      <td>F</td>\n",
       "      <td>2016-04-27T16:03:52Z</td>\n",
       "      <td>2016-06-07T00:00:00Z</td>\n",
       "      <td>21</td>\n",
       "      <td>MARIA ORTIZ</td>\n",
       "      <td>0</td>\n",
       "      <td>0</td>\n",
       "      <td>0</td>\n",
       "      <td>0</td>\n",
       "      <td>0</td>\n",
       "      <td>1</td>\n",
       "      <td>No</td>\n",
       "    </tr>\n",
       "    <tr>\n",
       "      <th>110525</th>\n",
       "      <td>9.213493e+13</td>\n",
       "      <td>5630323</td>\n",
       "      <td>F</td>\n",
       "      <td>2016-04-27T15:09:23Z</td>\n",
       "      <td>2016-06-07T00:00:00Z</td>\n",
       "      <td>38</td>\n",
       "      <td>MARIA ORTIZ</td>\n",
       "      <td>0</td>\n",
       "      <td>0</td>\n",
       "      <td>0</td>\n",
       "      <td>0</td>\n",
       "      <td>0</td>\n",
       "      <td>1</td>\n",
       "      <td>No</td>\n",
       "    </tr>\n",
       "    <tr>\n",
       "      <th>110526</th>\n",
       "      <td>3.775115e+14</td>\n",
       "      <td>5629448</td>\n",
       "      <td>F</td>\n",
       "      <td>2016-04-27T13:30:56Z</td>\n",
       "      <td>2016-06-07T00:00:00Z</td>\n",
       "      <td>54</td>\n",
       "      <td>MARIA ORTIZ</td>\n",
       "      <td>0</td>\n",
       "      <td>0</td>\n",
       "      <td>0</td>\n",
       "      <td>0</td>\n",
       "      <td>0</td>\n",
       "      <td>1</td>\n",
       "      <td>No</td>\n",
       "    </tr>\n",
       "  </tbody>\n",
       "</table>\n",
       "<p>110526 rows × 14 columns</p>\n",
       "</div>"
      ],
      "text/plain": [
       "           patientid  appointmentid gender          scheduledday  \\\n",
       "0       2.987250e+13        5642903      F  2016-04-29T18:38:08Z   \n",
       "1       5.589978e+14        5642503      M  2016-04-29T16:08:27Z   \n",
       "2       4.262962e+12        5642549      F  2016-04-29T16:19:04Z   \n",
       "3       8.679512e+11        5642828      F  2016-04-29T17:29:31Z   \n",
       "4       8.841186e+12        5642494      F  2016-04-29T16:07:23Z   \n",
       "...              ...            ...    ...                   ...   \n",
       "110522  2.572134e+12        5651768      F  2016-05-03T09:15:35Z   \n",
       "110523  3.596266e+12        5650093      F  2016-05-03T07:27:33Z   \n",
       "110524  1.557663e+13        5630692      F  2016-04-27T16:03:52Z   \n",
       "110525  9.213493e+13        5630323      F  2016-04-27T15:09:23Z   \n",
       "110526  3.775115e+14        5629448      F  2016-04-27T13:30:56Z   \n",
       "\n",
       "              appointmentday  age      neighbourhood  scholarship  \\\n",
       "0       2016-04-29T00:00:00Z   62    JARDIM DA PENHA            0   \n",
       "1       2016-04-29T00:00:00Z   56    JARDIM DA PENHA            0   \n",
       "2       2016-04-29T00:00:00Z   62      MATA DA PRAIA            0   \n",
       "3       2016-04-29T00:00:00Z    8  PONTAL DE CAMBURI            0   \n",
       "4       2016-04-29T00:00:00Z   56    JARDIM DA PENHA            0   \n",
       "...                      ...  ...                ...          ...   \n",
       "110522  2016-06-07T00:00:00Z   56        MARIA ORTIZ            0   \n",
       "110523  2016-06-07T00:00:00Z   51        MARIA ORTIZ            0   \n",
       "110524  2016-06-07T00:00:00Z   21        MARIA ORTIZ            0   \n",
       "110525  2016-06-07T00:00:00Z   38        MARIA ORTIZ            0   \n",
       "110526  2016-06-07T00:00:00Z   54        MARIA ORTIZ            0   \n",
       "\n",
       "        hipertension  diabetes  alcoholism  handcap  sms_received no_show  \n",
       "0                  1         0           0        0             0      No  \n",
       "1                  0         0           0        0             0      No  \n",
       "2                  0         0           0        0             0      No  \n",
       "3                  0         0           0        0             0      No  \n",
       "4                  1         1           0        0             0      No  \n",
       "...              ...       ...         ...      ...           ...     ...  \n",
       "110522             0         0           0        0             1      No  \n",
       "110523             0         0           0        0             1      No  \n",
       "110524             0         0           0        0             1      No  \n",
       "110525             0         0           0        0             1      No  \n",
       "110526             0         0           0        0             1      No  \n",
       "\n",
       "[110526 rows x 14 columns]"
      ]
     },
     "execution_count": 9,
     "metadata": {},
     "output_type": "execute_result"
    }
   ],
   "source": [
    "df.drop(99832,inplace=True)\n",
    "df"
   ]
  },
  {
   "cell_type": "code",
   "execution_count": 10,
   "metadata": {},
   "outputs": [
    {
     "data": {
      "text/html": [
       "<div>\n",
       "<style scoped>\n",
       "    .dataframe tbody tr th:only-of-type {\n",
       "        vertical-align: middle;\n",
       "    }\n",
       "\n",
       "    .dataframe tbody tr th {\n",
       "        vertical-align: top;\n",
       "    }\n",
       "\n",
       "    .dataframe thead th {\n",
       "        text-align: right;\n",
       "    }\n",
       "</style>\n",
       "<table border=\"1\" class=\"dataframe\">\n",
       "  <thead>\n",
       "    <tr style=\"text-align: right;\">\n",
       "      <th></th>\n",
       "      <th>patientid</th>\n",
       "      <th>appointmentid</th>\n",
       "      <th>age</th>\n",
       "      <th>scholarship</th>\n",
       "      <th>hipertension</th>\n",
       "      <th>diabetes</th>\n",
       "      <th>alcoholism</th>\n",
       "      <th>handcap</th>\n",
       "      <th>sms_received</th>\n",
       "    </tr>\n",
       "  </thead>\n",
       "  <tbody>\n",
       "    <tr>\n",
       "      <th>count</th>\n",
       "      <td>1.105260e+05</td>\n",
       "      <td>1.105260e+05</td>\n",
       "      <td>110526.000000</td>\n",
       "      <td>110526.000000</td>\n",
       "      <td>110526.000000</td>\n",
       "      <td>110526.000000</td>\n",
       "      <td>110526.000000</td>\n",
       "      <td>110526.000000</td>\n",
       "      <td>110526.000000</td>\n",
       "    </tr>\n",
       "    <tr>\n",
       "      <th>mean</th>\n",
       "      <td>1.474934e+14</td>\n",
       "      <td>5.675304e+06</td>\n",
       "      <td>37.089219</td>\n",
       "      <td>0.098266</td>\n",
       "      <td>0.197248</td>\n",
       "      <td>0.071865</td>\n",
       "      <td>0.030400</td>\n",
       "      <td>0.022248</td>\n",
       "      <td>0.321029</td>\n",
       "    </tr>\n",
       "    <tr>\n",
       "      <th>std</th>\n",
       "      <td>2.560943e+14</td>\n",
       "      <td>7.129544e+04</td>\n",
       "      <td>23.110026</td>\n",
       "      <td>0.297676</td>\n",
       "      <td>0.397923</td>\n",
       "      <td>0.258266</td>\n",
       "      <td>0.171686</td>\n",
       "      <td>0.161543</td>\n",
       "      <td>0.466874</td>\n",
       "    </tr>\n",
       "    <tr>\n",
       "      <th>min</th>\n",
       "      <td>3.921784e+04</td>\n",
       "      <td>5.030230e+06</td>\n",
       "      <td>0.000000</td>\n",
       "      <td>0.000000</td>\n",
       "      <td>0.000000</td>\n",
       "      <td>0.000000</td>\n",
       "      <td>0.000000</td>\n",
       "      <td>0.000000</td>\n",
       "      <td>0.000000</td>\n",
       "    </tr>\n",
       "    <tr>\n",
       "      <th>25%</th>\n",
       "      <td>4.172536e+12</td>\n",
       "      <td>5.640285e+06</td>\n",
       "      <td>18.000000</td>\n",
       "      <td>0.000000</td>\n",
       "      <td>0.000000</td>\n",
       "      <td>0.000000</td>\n",
       "      <td>0.000000</td>\n",
       "      <td>0.000000</td>\n",
       "      <td>0.000000</td>\n",
       "    </tr>\n",
       "    <tr>\n",
       "      <th>50%</th>\n",
       "      <td>3.173184e+13</td>\n",
       "      <td>5.680572e+06</td>\n",
       "      <td>37.000000</td>\n",
       "      <td>0.000000</td>\n",
       "      <td>0.000000</td>\n",
       "      <td>0.000000</td>\n",
       "      <td>0.000000</td>\n",
       "      <td>0.000000</td>\n",
       "      <td>0.000000</td>\n",
       "    </tr>\n",
       "    <tr>\n",
       "      <th>75%</th>\n",
       "      <td>9.438963e+13</td>\n",
       "      <td>5.725523e+06</td>\n",
       "      <td>55.000000</td>\n",
       "      <td>0.000000</td>\n",
       "      <td>0.000000</td>\n",
       "      <td>0.000000</td>\n",
       "      <td>0.000000</td>\n",
       "      <td>0.000000</td>\n",
       "      <td>1.000000</td>\n",
       "    </tr>\n",
       "    <tr>\n",
       "      <th>max</th>\n",
       "      <td>9.999816e+14</td>\n",
       "      <td>5.790484e+06</td>\n",
       "      <td>115.000000</td>\n",
       "      <td>1.000000</td>\n",
       "      <td>1.000000</td>\n",
       "      <td>1.000000</td>\n",
       "      <td>1.000000</td>\n",
       "      <td>4.000000</td>\n",
       "      <td>1.000000</td>\n",
       "    </tr>\n",
       "  </tbody>\n",
       "</table>\n",
       "</div>"
      ],
      "text/plain": [
       "          patientid  appointmentid            age    scholarship  \\\n",
       "count  1.105260e+05   1.105260e+05  110526.000000  110526.000000   \n",
       "mean   1.474934e+14   5.675304e+06      37.089219       0.098266   \n",
       "std    2.560943e+14   7.129544e+04      23.110026       0.297676   \n",
       "min    3.921784e+04   5.030230e+06       0.000000       0.000000   \n",
       "25%    4.172536e+12   5.640285e+06      18.000000       0.000000   \n",
       "50%    3.173184e+13   5.680572e+06      37.000000       0.000000   \n",
       "75%    9.438963e+13   5.725523e+06      55.000000       0.000000   \n",
       "max    9.999816e+14   5.790484e+06     115.000000       1.000000   \n",
       "\n",
       "        hipertension       diabetes     alcoholism        handcap  \\\n",
       "count  110526.000000  110526.000000  110526.000000  110526.000000   \n",
       "mean        0.197248       0.071865       0.030400       0.022248   \n",
       "std         0.397923       0.258266       0.171686       0.161543   \n",
       "min         0.000000       0.000000       0.000000       0.000000   \n",
       "25%         0.000000       0.000000       0.000000       0.000000   \n",
       "50%         0.000000       0.000000       0.000000       0.000000   \n",
       "75%         0.000000       0.000000       0.000000       0.000000   \n",
       "max         1.000000       1.000000       1.000000       4.000000   \n",
       "\n",
       "        sms_received  \n",
       "count  110526.000000  \n",
       "mean        0.321029  \n",
       "std         0.466874  \n",
       "min         0.000000  \n",
       "25%         0.000000  \n",
       "50%         0.000000  \n",
       "75%         1.000000  \n",
       "max         1.000000  "
      ]
     },
     "execution_count": 10,
     "metadata": {},
     "output_type": "execute_result"
    }
   ],
   "source": [
    "df.describe()"
   ]
  },
  {
   "cell_type": "markdown",
   "metadata": {},
   "source": [
    "### Checking for NaN values"
   ]
  },
  {
   "cell_type": "code",
   "execution_count": 11,
   "metadata": {},
   "outputs": [
    {
     "data": {
      "text/plain": [
       "False"
      ]
     },
     "execution_count": 11,
     "metadata": {},
     "output_type": "execute_result"
    }
   ],
   "source": [
    "df.isna().sum().any()"
   ]
  },
  {
   "cell_type": "markdown",
   "metadata": {},
   "source": [
    "### Dropping unnecessary columns:"
   ]
  },
  {
   "cell_type": "code",
   "execution_count": 12,
   "metadata": {},
   "outputs": [
    {
     "data": {
      "text/html": [
       "<div>\n",
       "<style scoped>\n",
       "    .dataframe tbody tr th:only-of-type {\n",
       "        vertical-align: middle;\n",
       "    }\n",
       "\n",
       "    .dataframe tbody tr th {\n",
       "        vertical-align: top;\n",
       "    }\n",
       "\n",
       "    .dataframe thead th {\n",
       "        text-align: right;\n",
       "    }\n",
       "</style>\n",
       "<table border=\"1\" class=\"dataframe\">\n",
       "  <thead>\n",
       "    <tr style=\"text-align: right;\">\n",
       "      <th></th>\n",
       "      <th>gender</th>\n",
       "      <th>age</th>\n",
       "      <th>neighbourhood</th>\n",
       "      <th>scholarship</th>\n",
       "      <th>sms_received</th>\n",
       "      <th>no_show</th>\n",
       "    </tr>\n",
       "  </thead>\n",
       "  <tbody>\n",
       "    <tr>\n",
       "      <th>0</th>\n",
       "      <td>F</td>\n",
       "      <td>62</td>\n",
       "      <td>JARDIM DA PENHA</td>\n",
       "      <td>0</td>\n",
       "      <td>0</td>\n",
       "      <td>No</td>\n",
       "    </tr>\n",
       "  </tbody>\n",
       "</table>\n",
       "</div>"
      ],
      "text/plain": [
       "  gender  age    neighbourhood  scholarship  sms_received no_show\n",
       "0      F   62  JARDIM DA PENHA            0             0      No"
      ]
     },
     "execution_count": 12,
     "metadata": {},
     "output_type": "execute_result"
    }
   ],
   "source": [
    "df.drop(['patientid','appointmentid','appointmentday','scheduledday','hipertension','diabetes','alcoholism','handcap'],axis=1,inplace=True)\n",
    "df.head(1)"
   ]
  },
  {
   "cell_type": "code",
   "execution_count": 13,
   "metadata": {},
   "outputs": [
    {
     "data": {
      "image/png": "[encoded data removed]",
      "text/plain": [
       "<Figure size 576x576 with 4 Axes>"
      ]
     },
     "metadata": {
      "needs_background": "light"
     },
     "output_type": "display_data"
    }
   ],
   "source": [
    "df.hist(figsize=(8,8));"
   ]
  },
  {
   "cell_type": "markdown",
   "metadata": {},
   "source": [
    "<a id='eda'></a>\n",
    "## Exploratory Data Analysis\n",
    ">Each variable will be analyzed separately (1D variable analysis), then dependent variables will be analyzed against the independent variable (2D variable analysis) to determine the association between them. \n",
    "\n",
    "### Independent Variable:"
   ]
  },
  {
   "cell_type": "markdown",
   "metadata": {},
   "source": [
    "<a id='show'></a>\n",
    "### Showing up for the appointment:"
   ]
  },
  {
   "cell_type": "code",
   "execution_count": 14,
   "metadata": {},
   "outputs": [],
   "source": [
    "showed = df.no_show == 'No'\n",
    "missed = df.no_show == 'Yes'"
   ]
  },
  {
   "cell_type": "code",
   "execution_count": 15,
   "metadata": {},
   "outputs": [
    {
     "data": {
      "text/plain": [
       "No     88207\n",
       "Yes    22319\n",
       "Name: no_show, dtype: int64"
      ]
     },
     "execution_count": 15,
     "metadata": {},
     "output_type": "execute_result"
    }
   ],
   "source": [
    "df.no_show.value_counts()"
   ]
  },
  {
   "cell_type": "code",
   "execution_count": 16,
   "metadata": {},
   "outputs": [
    {
     "data": {
      "image/png": "[encoded data removed]",
      "text/plain": [
       "<Figure size 432x288 with 1 Axes>"
      ]
     },
     "metadata": {},
     "output_type": "display_data"
    }
   ],
   "source": [
    "plt.pie(df.no_show.value_counts(), labels=['Showed', 'Missed'], autopct='%1.1f%%')\n",
    "plt.title('Showed vs Missed');"
   ]
  },
  {
   "cell_type": "markdown",
   "metadata": {},
   "source": [
    "79.8% of the sample showed for their appointments while 20.2% missed them."
   ]
  },
  {
   "cell_type": "markdown",
   "metadata": {},
   "source": [
    "### Dependent Variables:"
   ]
  },
  {
   "cell_type": "markdown",
   "metadata": {},
   "source": [
    "<a id='gender'></a>\n",
    "### 1) Gender:"
   ]
  },
  {
   "cell_type": "code",
   "execution_count": 17,
   "metadata": {},
   "outputs": [
    {
     "data": {
      "text/plain": [
       "0.3500262381702043"
      ]
     },
     "execution_count": 17,
     "metadata": {},
     "output_type": "execute_result"
    }
   ],
   "source": [
    "#calculating females proportion\n",
    "total_num = df.gender.count()\n",
    "num_f = df.gender[df.gender=='F'].count()\n",
    "prop_f = num_f/total_num\n",
    "prop_f\n",
    "\n",
    "#calculating males proportion\n",
    "num_m = df.gender[df.gender=='M'].count()\n",
    "prop_m = num_m/total_num\n",
    "prop_m"
   ]
  },
  {
   "cell_type": "code",
   "execution_count": 18,
   "metadata": {},
   "outputs": [
    {
     "data": {
      "text/plain": [
       "F    71839\n",
       "M    38687\n",
       "Name: gender, dtype: int64"
      ]
     },
     "execution_count": 18,
     "metadata": {},
     "output_type": "execute_result"
    }
   ],
   "source": [
    "df.gender.value_counts()"
   ]
  },
  {
   "cell_type": "code",
   "execution_count": 19,
   "metadata": {},
   "outputs": [
    {
     "data": {
      "image/png": "[encoded data removed]",
      "text/plain": [
       "<Figure size 432x288 with 1 Axes>"
      ]
     },
     "metadata": {},
     "output_type": "display_data"
    }
   ],
   "source": [
    "plt.pie(df.gender.value_counts(), labels=['F','M'],autopct='%1.1f%%')\n",
    "plt.title('Distribution of Genders');"
   ]
  },
  {
   "cell_type": "markdown",
   "metadata": {},
   "source": [
    "Percentage of Females in the sample = 65%\n",
    "\n",
    "Percentage of Males in the sample = 35%"
   ]
  },
  {
   "cell_type": "code",
   "execution_count": 20,
   "metadata": {},
   "outputs": [
    {
     "data": {
      "text/plain": [
       "No     57245\n",
       "Yes    14594\n",
       "Name: no_show, dtype: int64"
      ]
     },
     "execution_count": 20,
     "metadata": {},
     "output_type": "execute_result"
    }
   ],
   "source": [
    "df.query('gender == \"F\"')['no_show'].value_counts()"
   ]
  },
  {
   "cell_type": "code",
   "execution_count": 21,
   "metadata": {},
   "outputs": [
    {
     "data": {
      "text/plain": [
       "No     57245\n",
       "Yes    14594\n",
       "Name: no_show, dtype: int64"
      ]
     },
     "execution_count": 21,
     "metadata": {},
     "output_type": "execute_result"
    },
    {
     "data": {
      "image/png": "[encoded data removed]",
      "text/plain": [
       "<Figure size 432x288 with 1 Axes>"
      ]
     },
     "metadata": {
      "needs_background": "light"
     },
     "output_type": "display_data"
    }
   ],
   "source": [
    "# Females Showing for Appointments\n",
    "df.query('gender == \"F\"')['no_show'].value_counts().plot(kind='bar')\n",
    "bar('Missed The Appointment','Number of Females','Females Showing for Appointments')\n",
    "df.query('gender == \"F\"')['no_show'].value_counts()"
   ]
  },
  {
   "cell_type": "code",
   "execution_count": 22,
   "metadata": {},
   "outputs": [
    {
     "data": {
      "text/plain": [
       "No     30962\n",
       "Yes     7725\n",
       "Name: no_show, dtype: int64"
      ]
     },
     "execution_count": 22,
     "metadata": {},
     "output_type": "execute_result"
    }
   ],
   "source": [
    "df.query('gender == \"M\"')['no_show'].value_counts()"
   ]
  },
  {
   "cell_type": "code",
   "execution_count": 23,
   "metadata": {},
   "outputs": [
    {
     "data": {
      "text/plain": [
       "No     30962\n",
       "Yes     7725\n",
       "Name: no_show, dtype: int64"
      ]
     },
     "execution_count": 23,
     "metadata": {},
     "output_type": "execute_result"
    },
    {
     "data": {
      "image/png": "[encoded data removed]",
      "text/plain": [
       "<Figure size 432x288 with 1 Axes>"
      ]
     },
     "metadata": {
      "needs_background": "light"
     },
     "output_type": "display_data"
    }
   ],
   "source": [
    "# Males Showing for Appointments\n",
    "df.query('gender == \"M\"')['no_show'].value_counts().plot(kind='bar')\n",
    "bar('Missed The Appointment', 'Number of Males', 'Males Showing for Appointments')\n",
    "df.query('gender == \"M\"')['no_show'].value_counts()"
   ]
  },
  {
   "cell_type": "code",
   "execution_count": 24,
   "metadata": {
    "scrolled": false
   },
   "outputs": [
    {
     "name": "stdout",
     "output_type": "stream",
     "text": [
      "Males proprotion =  0.8003205211052808\n",
      "Females proprotion =  0.7968512924734475\n"
     ]
    },
    {
     "data": {
      "image/png": "[encoded data removed]",
      "text/plain": [
       "<Figure size 432x288 with 1 Axes>"
      ]
     },
     "metadata": {
      "needs_background": "light"
     },
     "output_type": "display_data"
    }
   ],
   "source": [
    "# Males vs Females Showing for Appointments\n",
    "males = df.query('gender == \"M\"')\n",
    "mshow = df.query('gender == \"M\"')['no_show'].value_counts()[0]\n",
    "mtotal = df.query('gender == \"M\"')['no_show'].count()\n",
    "mprop = mshow/mtotal\n",
    "print('Males proprotion = ',mprop)\n",
    "fshow = df.query('gender == \"F\"')['no_show'].value_counts()[0]\n",
    "ftotal = df.query('gender == \"F\"')['no_show'].count()\n",
    "fprop = fshow/ftotal\n",
    "print('Females proprotion = ',fprop)\n",
    "mb = plt.bar(['M','F'], [mprop,fprop], width=0.5)\n",
    "bar('Gender', 'Showing Proportion', 'Gender vs Showing Proportion')"
   ]
  },
  {
   "cell_type": "markdown",
   "metadata": {},
   "source": [
    "80% of males showed for their appointments.\n",
    "\n",
    "79.7% of females showed for their appointments."
   ]
  },
  {
   "cell_type": "code",
   "execution_count": 25,
   "metadata": {},
   "outputs": [
    {
     "name": "stdout",
     "output_type": "stream",
     "text": [
      "Males proprotion =  0.19967947889471915\n",
      "Females proprotion =  0.20314870752655242\n"
     ]
    },
    {
     "data": {
      "image/png": "[encoded data removed]",
      "text/plain": [
       "<Figure size 432x288 with 1 Axes>"
      ]
     },
     "metadata": {
      "needs_background": "light"
     },
     "output_type": "display_data"
    }
   ],
   "source": [
    "# Males vs Females Missing Appointments\n",
    "males = df.query('gender == \"M\"')\n",
    "mshow = df.query('gender == \"M\"')['no_show'].value_counts()[1]\n",
    "mtotal = df.query('gender == \"M\"')['no_show'].count()\n",
    "mprop = mshow/mtotal\n",
    "print('Males proprotion = ',mprop)\n",
    "fshow = df.query('gender == \"F\"')['no_show'].value_counts()[1]\n",
    "ftotal = df.query('gender == \"F\"')['no_show'].count()\n",
    "fprop = fshow/ftotal\n",
    "print('Females proprotion = ',fprop)\n",
    "mb = plt.bar(['M','F'], [mprop,fprop], width=0.5)\n",
    "#fb = plt.bar(['s','m'], fshow,width=0.5, label='Females')\n",
    "bar('Gender', 'Missing Proportion', 'Gender vs Missing Proportion')"
   ]
  },
  {
   "cell_type": "markdown",
   "metadata": {},
   "source": [
    "20% of males showed for their appointments.\n",
    "\n",
    "20.3% of females showed for their appointments."
   ]
  },
  {
   "cell_type": "markdown",
   "metadata": {},
   "source": [
    "### Statistical Test: (Chi-Square)\n",
    "Chi-Square test was performed using an <a href='https://www.socscistatistics.com/tests/chisquare2/default2.aspx'>online calculator</a> at CI of 95%\n",
    "\n",
    "\n",
    "The chi-square statistic is 1.88\n",
    "\n",
    "The p-value is .17\n",
    "\n",
    "The result is **not significant** at p < .05."
   ]
  },
  {
   "cell_type": "markdown",
   "metadata": {},
   "source": [
    "<a id='location'></a>\n",
    "### 2) Location of the Hospital:"
   ]
  },
  {
   "cell_type": "code",
   "execution_count": 26,
   "metadata": {},
   "outputs": [
    {
     "data": {
      "text/plain": [
       "JARDIM CAMBURI                 7717\n",
       "MARIA ORTIZ                    5805\n",
       "RESISTÊNCIA                    4431\n",
       "JARDIM DA PENHA                3877\n",
       "ITARARÉ                        3514\n",
       "                               ... \n",
       "ILHA DO BOI                      35\n",
       "ILHA DO FRADE                    10\n",
       "AEROPORTO                         8\n",
       "ILHAS OCEÂNICAS DE TRINDADE       2\n",
       "PARQUE INDUSTRIAL                 1\n",
       "Name: neighbourhood, Length: 81, dtype: int64"
      ]
     },
     "execution_count": 26,
     "metadata": {},
     "output_type": "execute_result"
    }
   ],
   "source": [
    "df['neighbourhood'].value_counts()"
   ]
  },
  {
   "cell_type": "code",
   "execution_count": 27,
   "metadata": {},
   "outputs": [
    {
     "data": {
      "text/plain": [
       "81"
      ]
     },
     "execution_count": 27,
     "metadata": {},
     "output_type": "execute_result"
    }
   ],
   "source": [
    "df['neighbourhood'].nunique()"
   ]
  },
  {
   "cell_type": "code",
   "execution_count": 28,
   "metadata": {},
   "outputs": [
    {
     "data": {
      "text/plain": [
       "count      81.000000\n",
       "mean     1364.518519\n",
       "std      1369.191779\n",
       "min         1.000000\n",
       "25%       413.000000\n",
       "50%       851.000000\n",
       "75%      2018.000000\n",
       "max      7717.000000\n",
       "Name: neighbourhood, dtype: float64"
      ]
     },
     "execution_count": 28,
     "metadata": {},
     "output_type": "execute_result"
    }
   ],
   "source": [
    "df['neighbourhood'].value_counts().describe()"
   ]
  },
  {
   "cell_type": "markdown",
   "metadata": {},
   "source": [
    "There are **81** different hospital locations.\n",
    "\n",
    "Mean number of appointments in different locations is 1364.52 with min of 1 and max of 7717."
   ]
  },
  {
   "cell_type": "code",
   "execution_count": 29,
   "metadata": {
    "scrolled": false
   },
   "outputs": [
    {
     "data": {
      "image/png": "[encoded data removed]",
      "text/plain": [
       "<Figure size 1440x720 with 1 Axes>"
      ]
     },
     "metadata": {
      "needs_background": "light"
     },
     "output_type": "display_data"
    }
   ],
   "source": [
    "# visualisation of different hospitals locations\n",
    "df['neighbourhood'].value_counts().plot(kind='bar',figsize=(20,10))\n",
    "bar('Hospital Location', 'Number of Appointments', 'Distributioin of Hospitals Locations')"
   ]
  },
  {
   "cell_type": "code",
   "execution_count": 30,
   "metadata": {},
   "outputs": [
    {
     "data": {
      "text/plain": [
       "('JARDIM CAMBURI', 7717)"
      ]
     },
     "execution_count": 30,
     "metadata": {},
     "output_type": "execute_result"
    }
   ],
   "source": [
    "counts = df['neighbourhood'].value_counts()\n",
    "counts.idxmax(), counts.max()"
   ]
  },
  {
   "cell_type": "markdown",
   "metadata": {},
   "source": [
    "Neighbourhood with the **most** appointments is **JARDIM CAMBURI** with **7717** appointments."
   ]
  },
  {
   "cell_type": "code",
   "execution_count": 31,
   "metadata": {},
   "outputs": [
    {
     "data": {
      "text/plain": [
       "('PARQUE INDUSTRIAL', 1)"
      ]
     },
     "execution_count": 31,
     "metadata": {},
     "output_type": "execute_result"
    }
   ],
   "source": [
    "counts.idxmin(), counts.min()"
   ]
  },
  {
   "cell_type": "markdown",
   "metadata": {},
   "source": [
    "Neighbourhood with the **least** appointments is **PARQUE INDUSTRIAL** with **1** appointment."
   ]
  },
  {
   "cell_type": "code",
   "execution_count": 32,
   "metadata": {},
   "outputs": [
    {
     "name": "stdout",
     "output_type": "stream",
     "text": [
      "neighbourhood                no_show\n",
      "AEROPORTO                    No            7\n",
      "                             Yes           1\n",
      "ANDORINHAS                   No         1741\n",
      "                             Yes         521\n",
      "ANTÔNIO HONÓRIO              No          221\n",
      "                             Yes          50\n",
      "ARIOVALDO FAVALESSA          No          220\n",
      "                             Yes          62\n",
      "BARRO VERMELHO               No          332\n",
      "                             Yes          91\n",
      "BELA VISTA                   No         1523\n",
      "                             Yes         384\n",
      "BENTO FERREIRA               No          665\n",
      "                             Yes         193\n",
      "BOA VISTA                    No          254\n",
      "                             Yes          58\n",
      "BONFIM                       No         2223\n",
      "                             Yes         550\n",
      "CARATOÍRA                    No         1974\n",
      "                             Yes         591\n",
      "CENTRO                       No         2631\n",
      "                             Yes         703\n",
      "COMDUSA                      No          254\n",
      "                             Yes          56\n",
      "CONQUISTA                    No          689\n",
      "                             Yes         160\n",
      "CONSOLAÇÃO                   No         1139\n",
      "                             Yes         237\n",
      "CRUZAMENTO                   No         1094\n",
      "                             Yes         304\n",
      "DA PENHA                     No         1788\n",
      "                             Yes         429\n",
      "DE LOURDES                   No          258\n",
      "                             Yes          47\n",
      "DO CABRAL                    No          472\n",
      "                             Yes          88\n",
      "DO MOSCOSO                   No          321\n",
      "                             Yes          92\n",
      "DO QUADRO                    No          709\n",
      "                             Yes         140\n",
      "ENSEADA DO SUÁ               No          183\n",
      "                             Yes          52\n",
      "ESTRELINHA                   No          432\n",
      "                             Yes         106\n",
      "FONTE GRANDE                 No          533\n",
      "                             Yes         149\n",
      "FORTE SÃO JOÃO               No         1543\n",
      "                             Yes         346\n",
      "FRADINHOS                    No          210\n",
      "                             Yes          48\n",
      "GOIABEIRAS                   No          563\n",
      "                             Yes         137\n",
      "GRANDE VITÓRIA               No          854\n",
      "                             Yes         217\n",
      "GURIGICA                     No         1562\n",
      "                             Yes         456\n",
      "HORTO                        No          133\n",
      "                             Yes          42\n",
      "ILHA DAS CAIEIRAS            No          836\n",
      "                             Yes         235\n",
      "ILHA DE SANTA MARIA          No         1524\n",
      "                             Yes         361\n",
      "ILHA DO BOI                  No           32\n",
      "                             Yes           3\n",
      "ILHA DO FRADE                No            8\n",
      "                             Yes           2\n",
      "ILHA DO PRÍNCIPE             No         1734\n",
      "                             Yes         532\n",
      "ILHAS OCEÂNICAS DE TRINDADE  Yes           2\n",
      "INHANGUETÁ                   No          855\n",
      "                             Yes         202\n",
      "ITARARÉ                      No         2591\n",
      "                             Yes         923\n",
      "JABOUR                       No         2058\n",
      "                             Yes         451\n",
      "JARDIM CAMBURI               No         6252\n",
      "                             Yes        1465\n",
      "JARDIM DA PENHA              No         3246\n",
      "                             Yes         631\n",
      "JESUS DE NAZARETH            No         2157\n",
      "                             Yes         696\n",
      "JOANA D´ARC                  No         1169\n",
      "                             Yes         258\n",
      "JUCUTUQUARA                  No          561\n",
      "                             Yes         133\n",
      "MARIA ORTIZ                  No         4586\n",
      "                             Yes        1219\n",
      "MARUÍPE                      No         1478\n",
      "                             Yes         424\n",
      "MATA DA PRAIA                No          534\n",
      "                             Yes         110\n",
      "MONTE BELO                   No          658\n",
      "                             Yes         166\n",
      "MORADA DE CAMBURI            No           80\n",
      "                             Yes          16\n",
      "MÁRIO CYPRESTE               No          317\n",
      "                             Yes          54\n",
      "NAZARETH                     No          106\n",
      "                             Yes          29\n",
      "NOVA PALESTINA               No         1862\n",
      "                             Yes         402\n",
      "PARQUE INDUSTRIAL            No            1\n",
      "PARQUE MOSCOSO               No          623\n",
      "                             Yes         179\n",
      "PIEDADE                      No          364\n",
      "                             Yes          88\n",
      "PONTAL DE CAMBURI            No           57\n",
      "                             Yes          12\n",
      "PRAIA DO CANTO               No          845\n",
      "                             Yes         190\n",
      "PRAIA DO SUÁ                 No          994\n",
      "                             Yes         294\n",
      "REDENÇÃO                     No         1278\n",
      "                             Yes         275\n",
      "REPÚBLICA                    No          692\n",
      "                             Yes         143\n",
      "RESISTÊNCIA                  No         3525\n",
      "                             Yes         906\n",
      "ROMÃO                        No         1740\n",
      "                             Yes         474\n",
      "SANTA CECÍLIA                No          325\n",
      "                             Yes         123\n",
      "SANTA CLARA                  No          372\n",
      "                             Yes         134\n",
      "SANTA HELENA                 No          141\n",
      "                             Yes          37\n",
      "SANTA LUÍZA                  No          351\n",
      "                             Yes          77\n",
      "SANTA LÚCIA                  No          352\n",
      "                             Yes          86\n",
      "SANTA MARTHA                 No         2635\n",
      "                             Yes         496\n",
      "SANTA TEREZA                 No         1060\n",
      "                             Yes         272\n",
      "SANTO ANDRÉ                  No         2063\n",
      "                             Yes         508\n",
      "SANTO ANTÔNIO                No         2262\n",
      "                             Yes         484\n",
      "SANTOS DUMONT                No          907\n",
      "                             Yes         369\n",
      "SANTOS REIS                  No          435\n",
      "                             Yes         112\n",
      "SEGURANÇA DO LAR             No          117\n",
      "                             Yes          28\n",
      "SOLON BORGES                 No          400\n",
      "                             Yes          69\n",
      "SÃO BENEDITO                 No         1152\n",
      "                             Yes         287\n",
      "SÃO CRISTÓVÃO                No         1473\n",
      "                             Yes         363\n",
      "SÃO JOSÉ                     No         1549\n",
      "                             Yes         428\n",
      "SÃO PEDRO                    No         1933\n",
      "                             Yes         515\n",
      "TABUAZEIRO                   No         2559\n",
      "                             Yes         573\n",
      "UNIVERSITÁRIO                No          120\n",
      "                             Yes          32\n",
      "VILA RUBIM                   No          710\n",
      "                             Yes         141\n",
      "Name: no_show, dtype: int64\n"
     ]
    }
   ],
   "source": [
    "gp = df.groupby(['neighbourhood'])['no_show'].value_counts()\n",
    "with pd.option_context('display.max_rows', None, 'display.max_columns', None):\n",
    "    print(gp)"
   ]
  },
  {
   "cell_type": "code",
   "execution_count": 33,
   "metadata": {
    "scrolled": true
   },
   "outputs": [
    {
     "data": {
      "text/plain": [
       "neighbourhood\n",
       "AEROPORTO                 8\n",
       "ANDORINHAS             2262\n",
       "ANTÔNIO HONÓRIO         271\n",
       "ARIOVALDO FAVALESSA     282\n",
       "BARRO VERMELHO          423\n",
       "                       ... \n",
       "SÃO JOSÉ               1977\n",
       "SÃO PEDRO              2448\n",
       "TABUAZEIRO             3132\n",
       "UNIVERSITÁRIO           152\n",
       "VILA RUBIM              851\n",
       "Name: age, Length: 81, dtype: int64"
      ]
     },
     "execution_count": 33,
     "metadata": {},
     "output_type": "execute_result"
    }
   ],
   "source": [
    "# number of appointments in different locations\n",
    "area_counts = df.groupby(['neighbourhood']).count()['age']\n",
    "area_counts"
   ]
  },
  {
   "cell_type": "code",
   "execution_count": 34,
   "metadata": {},
   "outputs": [],
   "source": [
    "# getting areas counts\n",
    "y_list = []\n",
    "n_list = []\n",
    "total = []\n",
    "for area in area_counts.index:\n",
    "    total.append(area_counts[area])\n",
    "    if (area != 'ILHAS OCEÂNICAS DE TRINDADE') and (area != 'PARQUE INDUSTRIAL'):\n",
    "        y_list.append(gp[area]['Yes'])\n",
    "        n_list.append(gp[area]['No'])\n",
    "    elif area == 'PARQUE INDUSTRIAL':\n",
    "        y_list.append(0)\n",
    "        n_list.append(gp[area]['No'])\n",
    "    elif area == 'ILHAS OCEÂNICAS DE TRINDADE':\n",
    "        y_list.append(gp[area]['Yes'])\n",
    "        n_list.append(0)"
   ]
  },
  {
   "cell_type": "code",
   "execution_count": 35,
   "metadata": {
    "scrolled": true
   },
   "outputs": [
    {
     "data": {
      "text/html": [
       "<div>\n",
       "<style scoped>\n",
       "    .dataframe tbody tr th:only-of-type {\n",
       "        vertical-align: middle;\n",
       "    }\n",
       "\n",
       "    .dataframe tbody tr th {\n",
       "        vertical-align: top;\n",
       "    }\n",
       "\n",
       "    .dataframe thead th {\n",
       "        text-align: right;\n",
       "    }\n",
       "</style>\n",
       "<table border=\"1\" class=\"dataframe\">\n",
       "  <thead>\n",
       "    <tr style=\"text-align: right;\">\n",
       "      <th></th>\n",
       "      <th>area</th>\n",
       "      <th>total</th>\n",
       "      <th>showed</th>\n",
       "      <th>missed</th>\n",
       "      <th>show_prop</th>\n",
       "      <th>miss_prop</th>\n",
       "    </tr>\n",
       "  </thead>\n",
       "  <tbody>\n",
       "    <tr>\n",
       "      <th>0</th>\n",
       "      <td>AEROPORTO</td>\n",
       "      <td>8</td>\n",
       "      <td>7</td>\n",
       "      <td>1</td>\n",
       "      <td>0.875000</td>\n",
       "      <td>0.125000</td>\n",
       "    </tr>\n",
       "    <tr>\n",
       "      <th>1</th>\n",
       "      <td>ANDORINHAS</td>\n",
       "      <td>2262</td>\n",
       "      <td>1741</td>\n",
       "      <td>521</td>\n",
       "      <td>0.769673</td>\n",
       "      <td>0.230327</td>\n",
       "    </tr>\n",
       "    <tr>\n",
       "      <th>2</th>\n",
       "      <td>ANTÔNIO HONÓRIO</td>\n",
       "      <td>271</td>\n",
       "      <td>221</td>\n",
       "      <td>50</td>\n",
       "      <td>0.815498</td>\n",
       "      <td>0.184502</td>\n",
       "    </tr>\n",
       "    <tr>\n",
       "      <th>3</th>\n",
       "      <td>ARIOVALDO FAVALESSA</td>\n",
       "      <td>282</td>\n",
       "      <td>220</td>\n",
       "      <td>62</td>\n",
       "      <td>0.780142</td>\n",
       "      <td>0.219858</td>\n",
       "    </tr>\n",
       "    <tr>\n",
       "      <th>4</th>\n",
       "      <td>BARRO VERMELHO</td>\n",
       "      <td>423</td>\n",
       "      <td>332</td>\n",
       "      <td>91</td>\n",
       "      <td>0.784870</td>\n",
       "      <td>0.215130</td>\n",
       "    </tr>\n",
       "    <tr>\n",
       "      <th>...</th>\n",
       "      <td>...</td>\n",
       "      <td>...</td>\n",
       "      <td>...</td>\n",
       "      <td>...</td>\n",
       "      <td>...</td>\n",
       "      <td>...</td>\n",
       "    </tr>\n",
       "    <tr>\n",
       "      <th>76</th>\n",
       "      <td>SÃO JOSÉ</td>\n",
       "      <td>1977</td>\n",
       "      <td>1549</td>\n",
       "      <td>428</td>\n",
       "      <td>0.783510</td>\n",
       "      <td>0.216490</td>\n",
       "    </tr>\n",
       "    <tr>\n",
       "      <th>77</th>\n",
       "      <td>SÃO PEDRO</td>\n",
       "      <td>2448</td>\n",
       "      <td>1933</td>\n",
       "      <td>515</td>\n",
       "      <td>0.789624</td>\n",
       "      <td>0.210376</td>\n",
       "    </tr>\n",
       "    <tr>\n",
       "      <th>78</th>\n",
       "      <td>TABUAZEIRO</td>\n",
       "      <td>3132</td>\n",
       "      <td>2559</td>\n",
       "      <td>573</td>\n",
       "      <td>0.817050</td>\n",
       "      <td>0.182950</td>\n",
       "    </tr>\n",
       "    <tr>\n",
       "      <th>79</th>\n",
       "      <td>UNIVERSITÁRIO</td>\n",
       "      <td>152</td>\n",
       "      <td>120</td>\n",
       "      <td>32</td>\n",
       "      <td>0.789474</td>\n",
       "      <td>0.210526</td>\n",
       "    </tr>\n",
       "    <tr>\n",
       "      <th>80</th>\n",
       "      <td>VILA RUBIM</td>\n",
       "      <td>851</td>\n",
       "      <td>710</td>\n",
       "      <td>141</td>\n",
       "      <td>0.834313</td>\n",
       "      <td>0.165687</td>\n",
       "    </tr>\n",
       "  </tbody>\n",
       "</table>\n",
       "<p>81 rows × 6 columns</p>\n",
       "</div>"
      ],
      "text/plain": [
       "                   area  total  showed  missed  show_prop  miss_prop\n",
       "0             AEROPORTO      8       7       1   0.875000   0.125000\n",
       "1            ANDORINHAS   2262    1741     521   0.769673   0.230327\n",
       "2       ANTÔNIO HONÓRIO    271     221      50   0.815498   0.184502\n",
       "3   ARIOVALDO FAVALESSA    282     220      62   0.780142   0.219858\n",
       "4        BARRO VERMELHO    423     332      91   0.784870   0.215130\n",
       "..                  ...    ...     ...     ...        ...        ...\n",
       "76             SÃO JOSÉ   1977    1549     428   0.783510   0.216490\n",
       "77            SÃO PEDRO   2448    1933     515   0.789624   0.210376\n",
       "78           TABUAZEIRO   3132    2559     573   0.817050   0.182950\n",
       "79        UNIVERSITÁRIO    152     120      32   0.789474   0.210526\n",
       "80           VILA RUBIM    851     710     141   0.834313   0.165687\n",
       "\n",
       "[81 rows x 6 columns]"
      ]
     },
     "execution_count": 35,
     "metadata": {},
     "output_type": "execute_result"
    }
   ],
   "source": [
    "# creating a df to hold the areas data\n",
    "areas_df = pd.DataFrame()\n",
    "areas_df['area'] = area_counts.index\n",
    "areas_df['total'] = total\n",
    "areas_df['showed'] = n_list\n",
    "areas_df['missed'] = y_list\n",
    "areas_df['show_prop'] = areas_df['showed']/areas_df['total']\n",
    "areas_df['miss_prop'] = areas_df['missed']/areas_df['total']\n",
    "areas_df"
   ]
  },
  {
   "cell_type": "code",
   "execution_count": 36,
   "metadata": {
    "scrolled": true
   },
   "outputs": [
    {
     "data": {
      "image/png": "[encoded data removed]",
      "text/plain": [
       "<Figure size 1440x720 with 1 Axes>"
      ]
     },
     "metadata": {
      "needs_background": "light"
     },
     "output_type": "display_data"
    }
   ],
   "source": [
    "# Visualisation of Showing Proportion in Different Areas\n",
    "areas_df.plot(x='area', y='show_prop', figsize=(20,10),grid=bool)\n",
    "plt.title('Showing Proportion in Different Areas')\n",
    "plt.xlabel('Areas')\n",
    "plt.xticks(range(0,len(list(areas_df['area']))),list(areas_df['area']),rotation='vertical')\n",
    "plt.ylabel('Showing Proportion');"
   ]
  },
  {
   "cell_type": "code",
   "execution_count": 37,
   "metadata": {},
   "outputs": [
    {
     "data": {
      "text/plain": [
       "('PARQUE INDUSTRIAL', 1.0)"
      ]
     },
     "execution_count": 37,
     "metadata": {},
     "output_type": "execute_result"
    }
   ],
   "source": [
    "areas_df.area[areas_df.show_prop.idxmax()], areas_df.show_prop.max()"
   ]
  },
  {
   "cell_type": "markdown",
   "metadata": {},
   "source": [
    "Area with the highest **show** proportion is **PARQUE INDUSTRIAL (1.0)**"
   ]
  },
  {
   "cell_type": "code",
   "execution_count": 38,
   "metadata": {
    "scrolled": false
   },
   "outputs": [
    {
     "data": {
      "image/png": "[encoded data removed]",
      "text/plain": [
       "<Figure size 1440x720 with 1 Axes>"
      ]
     },
     "metadata": {
      "needs_background": "light"
     },
     "output_type": "display_data"
    }
   ],
   "source": [
    "# Visualisation of Missing Proportion in Different Areas\n",
    "areas_df.plot(x='area', y='miss_prop', figsize=(20,10),grid=bool)\n",
    "plt.title('Missing Proportion in Different Areas')\n",
    "plt.xlabel('Areas')\n",
    "plt.xticks(range(0,len(list(areas_df['area']))),list(areas_df['area']),rotation='vertical')\n",
    "plt.ylabel('Missing Proportion');"
   ]
  },
  {
   "cell_type": "code",
   "execution_count": 39,
   "metadata": {},
   "outputs": [
    {
     "data": {
      "text/plain": [
       "('ILHAS OCEÂNICAS DE TRINDADE', 1.0)"
      ]
     },
     "execution_count": 39,
     "metadata": {},
     "output_type": "execute_result"
    }
   ],
   "source": [
    "areas_df.area[areas_df.miss_prop.idxmax()], areas_df.miss_prop.max()"
   ]
  },
  {
   "cell_type": "markdown",
   "metadata": {},
   "source": [
    "Area with the highest **miss** proportion is **ILHAS OCEÂNICAS DE TRINDADE (1.0)**"
   ]
  },
  {
   "cell_type": "markdown",
   "metadata": {},
   "source": [
    "<a id='enroll'></a>\n",
    "### 3) Enrollment in Welfare Program:"
   ]
  },
  {
   "cell_type": "code",
   "execution_count": 40,
   "metadata": {},
   "outputs": [
    {
     "data": {
      "text/plain": [
       "0    99665\n",
       "1    10861\n",
       "Name: scholarship, dtype: int64"
      ]
     },
     "execution_count": 40,
     "metadata": {},
     "output_type": "execute_result"
    }
   ],
   "source": [
    "df.scholarship.value_counts()"
   ]
  },
  {
   "cell_type": "code",
   "execution_count": 41,
   "metadata": {},
   "outputs": [
    {
     "data": {
      "image/png": "[encoded data removed]",
      "text/plain": [
       "<Figure size 432x288 with 1 Axes>"
      ]
     },
     "metadata": {},
     "output_type": "display_data"
    }
   ],
   "source": [
    "plt.pie(df.scholarship.value_counts(),labels=['Not Enrolled', 'Enrolled'],autopct='%1.1f%%')\n",
    "plt.title('Distribution of Enrollment');"
   ]
  },
  {
   "cell_type": "markdown",
   "metadata": {},
   "source": [
    "9.8% of patients are enrolled in the welfare program.\n",
    "\n",
    "90.2% of patients are not enrolled in the welfare program."
   ]
  },
  {
   "cell_type": "code",
   "execution_count": 42,
   "metadata": {},
   "outputs": [
    {
     "data": {
      "text/plain": [
       "scholarship  no_show\n",
       "0            No         79924\n",
       "             Yes        19741\n",
       "1            No          8283\n",
       "             Yes         2578\n",
       "Name: no_show, dtype: int64"
      ]
     },
     "execution_count": 42,
     "metadata": {},
     "output_type": "execute_result"
    }
   ],
   "source": [
    "sc = df.groupby(['scholarship'])['no_show'].value_counts()\n",
    "sc"
   ]
  },
  {
   "cell_type": "code",
   "execution_count": 43,
   "metadata": {},
   "outputs": [],
   "source": [
    "enrolled = df.scholarship == 1\n",
    "not_enrolled = df.scholarship == 0"
   ]
  },
  {
   "cell_type": "code",
   "execution_count": 44,
   "metadata": {
    "scrolled": true
   },
   "outputs": [
    {
     "data": {
      "text/html": [
       "<div>\n",
       "<style scoped>\n",
       "    .dataframe tbody tr th:only-of-type {\n",
       "        vertical-align: middle;\n",
       "    }\n",
       "\n",
       "    .dataframe tbody tr th {\n",
       "        vertical-align: top;\n",
       "    }\n",
       "\n",
       "    .dataframe thead th {\n",
       "        text-align: right;\n",
       "    }\n",
       "</style>\n",
       "<table border=\"1\" class=\"dataframe\">\n",
       "  <thead>\n",
       "    <tr style=\"text-align: right;\">\n",
       "      <th></th>\n",
       "      <th>total</th>\n",
       "      <th>show</th>\n",
       "      <th>miss</th>\n",
       "      <th>show_prop</th>\n",
       "      <th>miss_prop</th>\n",
       "    </tr>\n",
       "  </thead>\n",
       "  <tbody>\n",
       "    <tr>\n",
       "      <th>Yes</th>\n",
       "      <td>10861</td>\n",
       "      <td>8283</td>\n",
       "      <td>2578</td>\n",
       "      <td>0.762637</td>\n",
       "      <td>0.237363</td>\n",
       "    </tr>\n",
       "    <tr>\n",
       "      <th>No</th>\n",
       "      <td>99665</td>\n",
       "      <td>79924</td>\n",
       "      <td>19741</td>\n",
       "      <td>0.801926</td>\n",
       "      <td>0.198074</td>\n",
       "    </tr>\n",
       "  </tbody>\n",
       "</table>\n",
       "</div>"
      ],
      "text/plain": [
       "     total   show   miss  show_prop  miss_prop\n",
       "Yes  10861   8283   2578   0.762637   0.237363\n",
       "No   99665  79924  19741   0.801926   0.198074"
      ]
     },
     "execution_count": 44,
     "metadata": {},
     "output_type": "execute_result"
    }
   ],
   "source": [
    "# creating a df to hold the scholarship data\n",
    "sc_df = pd.DataFrame(index=['Yes','No'])\n",
    "sc_df['total'] = [10861, 99665]\n",
    "sc_df['show'] = [sc[1]['No'], sc[0]['No']]\n",
    "sc_df['miss'] = [sc[1]['Yes'], sc[0]['Yes']]\n",
    "sc_df['show_prop'] = sc_df['show']/sc_df['total']\n",
    "sc_df['miss_prop'] = sc_df['miss']/sc_df['total']\n",
    "sc_df"
   ]
  },
  {
   "cell_type": "code",
   "execution_count": 45,
   "metadata": {
    "scrolled": true
   },
   "outputs": [
    {
     "data": {
      "image/png": "[encoded data removed]",
      "text/plain": [
       "<Figure size 432x288 with 1 Axes>"
      ]
     },
     "metadata": {
      "needs_background": "light"
     },
     "output_type": "display_data"
    }
   ],
   "source": [
    "# analyzing data for enrolled patients\n",
    "plt.bar([1,2],[sc_df['show_prop']['Yes'],sc_df['miss_prop']['Yes']],tick_label=['Showed','Missed'], width=0.4)\n",
    "bar('Showing for the Appointment', 'Proportion', 'Show and Miss Proportions for Patients Enrolled in The Welfare Program')"
   ]
  },
  {
   "cell_type": "markdown",
   "metadata": {},
   "source": [
    "76% of **enrolled** patients show for their appointments."
   ]
  },
  {
   "cell_type": "code",
   "execution_count": 46,
   "metadata": {
    "scrolled": true
   },
   "outputs": [
    {
     "data": {
      "image/png": "[encoded data removed]",
      "text/plain": [
       "<Figure size 432x288 with 1 Axes>"
      ]
     },
     "metadata": {
      "needs_background": "light"
     },
     "output_type": "display_data"
    }
   ],
   "source": [
    "# analyzing data for non enrolled patients\n",
    "plt.bar([1,2],[sc_df['show_prop']['No'],sc_df['miss_prop']['No']],tick_label=['Showed','Missed'], width=0.4)\n",
    "bar('Showing for the Appointment', 'Proportion', 'Show and Miss Proportions for Patients NOT Enrolled in The Welfare Program')"
   ]
  },
  {
   "cell_type": "markdown",
   "metadata": {},
   "source": [
    "80% of **non enrolled** patients show for their appointments."
   ]
  },
  {
   "cell_type": "code",
   "execution_count": 47,
   "metadata": {
    "scrolled": false
   },
   "outputs": [
    {
     "data": {
      "image/png": "[encoded data removed]",
      "text/plain": [
       "<Figure size 432x288 with 1 Axes>"
      ]
     },
     "metadata": {
      "needs_background": "light"
     },
     "output_type": "display_data"
    }
   ],
   "source": [
    "# analyzing show proportions across the two groups\n",
    "sc_df.plot(y='show_prop',kind='bar')\n",
    "plt.xticks(rotation='horizontal')\n",
    "bar('Enrollment in Welfare Program', 'Proportion', 'Show Proportion vs Enrollment')"
   ]
  },
  {
   "cell_type": "markdown",
   "metadata": {},
   "source": [
    "Non Enrolled patients (80%) show for their appointments slightly more than Enrolled patients (76%)"
   ]
  },
  {
   "cell_type": "code",
   "execution_count": 48,
   "metadata": {
    "scrolled": false
   },
   "outputs": [
    {
     "data": {
      "image/png": "[encoded data removed]",
      "text/plain": [
       "<Figure size 432x288 with 1 Axes>"
      ]
     },
     "metadata": {
      "needs_background": "light"
     },
     "output_type": "display_data"
    }
   ],
   "source": [
    "# analyzing miss proportions across the two groups\n",
    "sc_df.plot(y='miss_prop',kind='bar')\n",
    "plt.xticks(rotation='horizontal')\n",
    "bar('Enrollment in Welfare Program', 'Proportion', 'Miss Proportion vs Enrollment')"
   ]
  },
  {
   "cell_type": "markdown",
   "metadata": {},
   "source": [
    "Enrolled patients (24%) miss their appointments slightly more than Non Enrolled patients (20%)"
   ]
  },
  {
   "cell_type": "markdown",
   "metadata": {},
   "source": [
    "### Statistical Test: (Chi-Square)\n",
    "Chi-Square test was performed using an <a href='https://www.socscistatistics.com/tests/chisquare2/default2.aspx'>online calculator</a> at CI of 95%\n",
    "\n",
    "\n",
    "The chi-square statistic is 93.81\n",
    "\n",
    "The p-value is < .00001\n",
    "\n",
    "The result is **significant** at p < .05"
   ]
  },
  {
   "cell_type": "markdown",
   "metadata": {},
   "source": [
    "<a id='sms'></a>\n",
    "### 4) SMS Confirmation:"
   ]
  },
  {
   "cell_type": "code",
   "execution_count": 49,
   "metadata": {},
   "outputs": [
    {
     "data": {
      "text/plain": [
       "75044"
      ]
     },
     "execution_count": 49,
     "metadata": {},
     "output_type": "execute_result"
    }
   ],
   "source": [
    "df.sms_received.value_counts()[0]"
   ]
  },
  {
   "cell_type": "code",
   "execution_count": 50,
   "metadata": {},
   "outputs": [
    {
     "data": {
      "image/png": "[encoded data removed]",
      "text/plain": [
       "<Figure size 432x288 with 1 Axes>"
      ]
     },
     "metadata": {},
     "output_type": "display_data"
    }
   ],
   "source": [
    "plt.pie(df.sms_received.value_counts(),labels=['Not Received', 'Received'],autopct='%1.1f%%')\n",
    "plt.title('Receiving SMS Confirmation');"
   ]
  },
  {
   "cell_type": "markdown",
   "metadata": {},
   "source": [
    "32.1% of the patients received SMS confirmation.\n",
    "\n",
    "67.9% of the patients did not receive SMS confirmation."
   ]
  },
  {
   "cell_type": "code",
   "execution_count": 51,
   "metadata": {},
   "outputs": [
    {
     "data": {
      "text/plain": [
       "sms_received  no_show\n",
       "0             No         62509\n",
       "              Yes        12535\n",
       "1             No         25698\n",
       "              Yes         9784\n",
       "Name: no_show, dtype: int64"
      ]
     },
     "execution_count": 51,
     "metadata": {},
     "output_type": "execute_result"
    }
   ],
   "source": [
    "sms = df.groupby(['sms_received'])['no_show'].value_counts()\n",
    "sms"
   ]
  },
  {
   "cell_type": "code",
   "execution_count": 52,
   "metadata": {
    "scrolled": true
   },
   "outputs": [
    {
     "data": {
      "text/html": [
       "<div>\n",
       "<style scoped>\n",
       "    .dataframe tbody tr th:only-of-type {\n",
       "        vertical-align: middle;\n",
       "    }\n",
       "\n",
       "    .dataframe tbody tr th {\n",
       "        vertical-align: top;\n",
       "    }\n",
       "\n",
       "    .dataframe thead th {\n",
       "        text-align: right;\n",
       "    }\n",
       "</style>\n",
       "<table border=\"1\" class=\"dataframe\">\n",
       "  <thead>\n",
       "    <tr style=\"text-align: right;\">\n",
       "      <th></th>\n",
       "      <th>total</th>\n",
       "      <th>show</th>\n",
       "      <th>miss</th>\n",
       "      <th>show_prop</th>\n",
       "      <th>miss_prop</th>\n",
       "    </tr>\n",
       "  </thead>\n",
       "  <tbody>\n",
       "    <tr>\n",
       "      <th>Yes</th>\n",
       "      <td>35482</td>\n",
       "      <td>25698</td>\n",
       "      <td>9784</td>\n",
       "      <td>0.724255</td>\n",
       "      <td>0.275745</td>\n",
       "    </tr>\n",
       "    <tr>\n",
       "      <th>No</th>\n",
       "      <td>75044</td>\n",
       "      <td>62509</td>\n",
       "      <td>12535</td>\n",
       "      <td>0.832965</td>\n",
       "      <td>0.167035</td>\n",
       "    </tr>\n",
       "  </tbody>\n",
       "</table>\n",
       "</div>"
      ],
      "text/plain": [
       "     total   show   miss  show_prop  miss_prop\n",
       "Yes  35482  25698   9784   0.724255   0.275745\n",
       "No   75044  62509  12535   0.832965   0.167035"
      ]
     },
     "execution_count": 52,
     "metadata": {},
     "output_type": "execute_result"
    }
   ],
   "source": [
    "# creating a df to hold the sms data\n",
    "sms_df = pd.DataFrame(index=['Yes','No'])\n",
    "sms_df['total'] = [df.sms_received.value_counts()[1], df.sms_received.value_counts()[0]]\n",
    "sms_df['show'] = [sms[1]['No'], sms[0]['No']]\n",
    "sms_df['miss'] = [sms[1]['Yes'], sms[0]['Yes']]\n",
    "sms_df['show_prop'] = sms_df['show']/sms_df['total']\n",
    "sms_df['miss_prop'] = sms_df['miss']/sms_df['total']\n",
    "sms_df"
   ]
  },
  {
   "cell_type": "code",
   "execution_count": 53,
   "metadata": {
    "scrolled": true
   },
   "outputs": [
    {
     "data": {
      "image/png": "[encoded data removed]",
      "text/plain": [
       "<Figure size 432x288 with 1 Axes>"
      ]
     },
     "metadata": {
      "needs_background": "light"
     },
     "output_type": "display_data"
    }
   ],
   "source": [
    "# analyzing data for received\n",
    "plt.bar([1,2],[sms_df['show_prop']['Yes'],sms_df['miss_prop']['Yes']],tick_label=['Showed','Missed'], width=0.4)\n",
    "bar('Showing for the Appointment', 'Proportion', 'Show and Miss Proportions for Patients Receiving SMS Confirmation')"
   ]
  },
  {
   "cell_type": "markdown",
   "metadata": {},
   "source": [
    "72% of the patients who received SMS confirmation showed for their appointment."
   ]
  },
  {
   "cell_type": "code",
   "execution_count": 54,
   "metadata": {
    "scrolled": true
   },
   "outputs": [
    {
     "data": {
      "image/png": "[encoded data removed]",
      "text/plain": [
       "<Figure size 432x288 with 1 Axes>"
      ]
     },
     "metadata": {
      "needs_background": "light"
     },
     "output_type": "display_data"
    }
   ],
   "source": [
    "# analyzing data for not received\n",
    "plt.bar([1,2],[sms_df['show_prop']['No'],sms_df['miss_prop']['No']],tick_label=['Showed','Missed'], width=0.4)\n",
    "bar('Showing for the Appointment', 'Proportion', 'Show and Miss Proportions for Patients NOT Receiving SMS Confirmation')"
   ]
  },
  {
   "cell_type": "markdown",
   "metadata": {},
   "source": [
    "83% of the patients who did not receive SMS confirmation showed for their appointment."
   ]
  },
  {
   "cell_type": "code",
   "execution_count": 55,
   "metadata": {
    "scrolled": true
   },
   "outputs": [
    {
     "data": {
      "image/png": "[encoded data removed]",
      "text/plain": [
       "<Figure size 432x288 with 1 Axes>"
      ]
     },
     "metadata": {
      "needs_background": "light"
     },
     "output_type": "display_data"
    }
   ],
   "source": [
    "# analyzing show proportions across the two groups\n",
    "sms_df.plot(y='show_prop',kind='bar')\n",
    "plt.xticks(rotation='horizontal')\n",
    "bar('Receiving SMS Confirmation', 'Show Proportion', 'Show Proportion vs SMS Confirmation')"
   ]
  },
  {
   "cell_type": "markdown",
   "metadata": {},
   "source": [
    "patients who did not receive SMS confirmation (83%) showed for their appointments more than those who did (72%)"
   ]
  },
  {
   "cell_type": "code",
   "execution_count": 56,
   "metadata": {
    "scrolled": true
   },
   "outputs": [
    {
     "data": {
      "image/png": "[encoded data removed]",
      "text/plain": [
       "<Figure size 432x288 with 1 Axes>"
      ]
     },
     "metadata": {
      "needs_background": "light"
     },
     "output_type": "display_data"
    }
   ],
   "source": [
    "# analyzing miss proportions across the two groups\n",
    "sms_df.plot(y='miss_prop',kind='bar')\n",
    "plt.xticks(rotation='horizontal')\n",
    "bar('Receiving SMS Confirmation', 'Miss Proportion', 'Miss Proportion vs SMS Confirmation')"
   ]
  },
  {
   "cell_type": "markdown",
   "metadata": {},
   "source": [
    "patients who received SMS confirmation (26%) missed their appointment more than those who did not (17%)"
   ]
  },
  {
   "cell_type": "markdown",
   "metadata": {},
   "source": [
    "### Statistical Test: (Chi-Square)\n",
    "Chi-Square test was performed using an <a href='https://www.socscistatistics.com/tests/chisquare2/default2.aspx'>online calculator</a> at CI of 95%\n",
    "\n",
    "\n",
    "The chi-square statistic is 1766.65\n",
    "\n",
    "The p-value is < .00001\n",
    "\n",
    "The result is **significant** at p < .05"
   ]
  },
  {
   "cell_type": "markdown",
   "metadata": {},
   "source": [
    "<a id='age'></a>\n",
    "### Age:"
   ]
  },
  {
   "cell_type": "code",
   "execution_count": 57,
   "metadata": {
    "scrolled": true
   },
   "outputs": [
    {
     "data": {
      "text/plain": [
       "count    110526.000000\n",
       "mean         37.089219\n",
       "std          23.110026\n",
       "min           0.000000\n",
       "25%          18.000000\n",
       "50%          37.000000\n",
       "75%          55.000000\n",
       "max         115.000000\n",
       "Name: age, dtype: float64"
      ]
     },
     "execution_count": 57,
     "metadata": {},
     "output_type": "execute_result"
    }
   ],
   "source": [
    "df.age.describe()"
   ]
  },
  {
   "cell_type": "markdown",
   "metadata": {},
   "source": [
    "Mean age is 37, with a max of 115 and min of 0."
   ]
  },
  {
   "cell_type": "code",
   "execution_count": 58,
   "metadata": {
    "scrolled": true
   },
   "outputs": [
    {
     "data": {
      "text/plain": [
       "0      3539\n",
       "1      2273\n",
       "52     1746\n",
       "49     1652\n",
       "53     1651\n",
       "       ... \n",
       "98        6\n",
       "115       5\n",
       "100       4\n",
       "102       2\n",
       "99        1\n",
       "Name: age, Length: 103, dtype: int64"
      ]
     },
     "execution_count": 58,
     "metadata": {},
     "output_type": "execute_result"
    }
   ],
   "source": [
    "df.age.value_counts()"
   ]
  },
  {
   "cell_type": "code",
   "execution_count": 59,
   "metadata": {
    "scrolled": true
   },
   "outputs": [
    {
     "data": {
      "image/png": "[encoded data removed]",
      "text/plain": [
       "<Figure size 432x288 with 1 Axes>"
      ]
     },
     "metadata": {
      "needs_background": "light"
     },
     "output_type": "display_data"
    }
   ],
   "source": [
    "df.age.hist()\n",
    "plt.xlabel('Age')\n",
    "plt.ylabel('Frequency')\n",
    "plt.title('Distribution of Age');"
   ]
  },
  {
   "cell_type": "markdown",
   "metadata": {},
   "source": [
    "Age distribution is slightly **right skewed**."
   ]
  },
  {
   "cell_type": "markdown",
   "metadata": {},
   "source": [
    "### Dividing the sample into age groups:"
   ]
  },
  {
   "cell_type": "markdown",
   "metadata": {},
   "source": [
    "### Newborns: (aged < 1)"
   ]
  },
  {
   "cell_type": "code",
   "execution_count": 60,
   "metadata": {
    "scrolled": true
   },
   "outputs": [
    {
     "data": {
      "text/plain": [
       "(2900, 639, 3539)"
      ]
     },
     "execution_count": 60,
     "metadata": {},
     "output_type": "execute_result"
    }
   ],
   "source": [
    "nb_total = df.query('age < 1')['no_show'].value_counts().sum()\n",
    "nb_show = df.query('age < 1')['no_show'].value_counts()['No']\n",
    "nb_miss = df.query('age < 1')['no_show'].value_counts()['Yes']\n",
    "nb_show_prop = nb_show/nb_total\n",
    "nb_miss_prop = nb_miss/nb_total\n",
    "nb_show, nb_miss, nb_total"
   ]
  },
  {
   "cell_type": "markdown",
   "metadata": {},
   "source": [
    "### Children: (aged 1-12)"
   ]
  },
  {
   "cell_type": "code",
   "execution_count": 61,
   "metadata": {},
   "outputs": [
    {
     "data": {
      "text/plain": [
       "(13829, 3668, 17497)"
      ]
     },
     "execution_count": 61,
     "metadata": {},
     "output_type": "execute_result"
    }
   ],
   "source": [
    "ch_total = df.query('1 <= age < 13')['no_show'].value_counts().sum()\n",
    "ch_show = df.query('1 <= age < 13')['no_show'].value_counts()['No']\n",
    "ch_miss = df.query('1 <= age < 13')['no_show'].value_counts()['Yes']\n",
    "ch_show_prop = ch_show/ch_total\n",
    "ch_miss_prop = ch_miss/ch_total\n",
    "ch_show, ch_miss, ch_total"
   ]
  },
  {
   "cell_type": "markdown",
   "metadata": {},
   "source": [
    "### Teenagers: (aged 13-18)"
   ]
  },
  {
   "cell_type": "code",
   "execution_count": 62,
   "metadata": {},
   "outputs": [
    {
     "data": {
      "text/plain": [
       "(5790, 2040, 7830)"
      ]
     },
     "execution_count": 62,
     "metadata": {},
     "output_type": "execute_result"
    }
   ],
   "source": [
    "teen_total = df.query('13 <= age <= 18')['no_show'].value_counts().sum()\n",
    "teen_show = df.query('13 <= age <= 18')['no_show'].value_counts()['No']\n",
    "teen_miss = df.query('13 <= age <= 18')['no_show'].value_counts()['Yes']\n",
    "teen_show_prop = teen_show/teen_total\n",
    "teen_miss_prop = teen_miss/teen_total\n",
    "teen_show, teen_miss, teen_total"
   ]
  },
  {
   "cell_type": "markdown",
   "metadata": {},
   "source": [
    "### Adults: (aged 19-60)"
   ]
  },
  {
   "cell_type": "code",
   "execution_count": 63,
   "metadata": {},
   "outputs": [
    {
     "data": {
      "text/plain": [
       "(48932, 12966, 61898)"
      ]
     },
     "execution_count": 63,
     "metadata": {},
     "output_type": "execute_result"
    }
   ],
   "source": [
    "adl_total = df.query('18 < age <= 60')['no_show'].value_counts().sum()\n",
    "adl_show = df.query('18 < age <= 60')['no_show'].value_counts()['No']\n",
    "adl_miss = df.query('18 < age <= 60')['no_show'].value_counts()['Yes']\n",
    "adl_show_prop = adl_show/adl_total\n",
    "adl_miss_prop = adl_miss/adl_total\n",
    "adl_show, adl_miss, adl_total"
   ]
  },
  {
   "cell_type": "markdown",
   "metadata": {},
   "source": [
    "### Elderly: (aged > 60)"
   ]
  },
  {
   "cell_type": "code",
   "execution_count": 64,
   "metadata": {},
   "outputs": [
    {
     "data": {
      "text/plain": [
       "(16756, 3006, 19762)"
      ]
     },
     "execution_count": 64,
     "metadata": {},
     "output_type": "execute_result"
    }
   ],
   "source": [
    "eld_total = df.query('age > 60')['no_show'].value_counts().sum()\n",
    "eld_show = df.query('age > 60')['no_show'].value_counts()['No']\n",
    "eld_miss = df.query('age > 60')['no_show'].value_counts()['Yes']\n",
    "eld_show_prop = eld_show/eld_total\n",
    "eld_miss_prop = eld_miss/eld_total\n",
    "eld_show, eld_miss, eld_total"
   ]
  },
  {
   "cell_type": "code",
   "execution_count": 65,
   "metadata": {
    "scrolled": false
   },
   "outputs": [
    {
     "data": {
      "image/png": "[encoded data removed]",
      "text/plain": [
       "<Figure size 432x288 with 1 Axes>"
      ]
     },
     "metadata": {},
     "output_type": "display_data"
    }
   ],
   "source": [
    "plt.pie([nb_total,ch_total,teen_total,adl_total,eld_total], labels=['Newborns', 'Children', 'Teens', 'Adults', 'Elderly'], autopct='%1.1f%%')\n",
    "plt.title('Distribution of Age Groups');"
   ]
  },
  {
   "cell_type": "markdown",
   "metadata": {},
   "source": [
    "The majority of the sample are adults (56%) followed by eldelrly (17.9%), children (15.8%), teens (7.1%), and newborns (3.2%)."
   ]
  },
  {
   "cell_type": "markdown",
   "metadata": {},
   "source": [
    "### Mean ages for showing and missing:"
   ]
  },
  {
   "cell_type": "code",
   "execution_count": 66,
   "metadata": {},
   "outputs": [
    {
     "data": {
      "text/plain": [
       "count    88207.000000\n",
       "mean        37.790504\n",
       "std         23.338645\n",
       "min          0.000000\n",
       "25%         18.000000\n",
       "50%         38.000000\n",
       "75%         56.000000\n",
       "max        115.000000\n",
       "Name: age, dtype: float64"
      ]
     },
     "execution_count": 66,
     "metadata": {},
     "output_type": "execute_result"
    }
   ],
   "source": [
    "df.age[showed].describe()"
   ]
  },
  {
   "cell_type": "markdown",
   "metadata": {},
   "source": [
    "Mean age for patients who **showed** for their appointments is 37.8"
   ]
  },
  {
   "cell_type": "code",
   "execution_count": 67,
   "metadata": {},
   "outputs": [
    {
     "data": {
      "text/plain": [
       "count    22319.000000\n",
       "mean        34.317667\n",
       "std         21.965941\n",
       "min          0.000000\n",
       "25%         16.000000\n",
       "50%         33.000000\n",
       "75%         51.000000\n",
       "max        115.000000\n",
       "Name: age, dtype: float64"
      ]
     },
     "execution_count": 67,
     "metadata": {},
     "output_type": "execute_result"
    }
   ],
   "source": [
    "df.age[missed].describe()"
   ]
  },
  {
   "cell_type": "markdown",
   "metadata": {},
   "source": [
    "Mean age for patients who **missed** their appointments is 34.3"
   ]
  },
  {
   "cell_type": "markdown",
   "metadata": {},
   "source": [
    "### Statistical Test: (Welch's T-test)\n",
    "Wilch's T-test was performed using an <a href='https://www.statskingdom.com/150MeanT2uneq.html'>online calculator</a> at CI of 95%\n",
    "\n",
    "The T-test statistic is -20.83\n",
    "\n",
    "The p-value is < .00001\n",
    "\n",
    "The result is **significant** at p < .05"
   ]
  },
  {
   "cell_type": "markdown",
   "metadata": {},
   "source": [
    "### Show and Miss props for different age groups:"
   ]
  },
  {
   "cell_type": "code",
   "execution_count": 68,
   "metadata": {
    "scrolled": false
   },
   "outputs": [
    {
     "data": {
      "image/png": "[encoded data removed]",
      "text/plain": [
       "<Figure size 432x288 with 1 Axes>"
      ]
     },
     "metadata": {
      "needs_background": "light"
     },
     "output_type": "display_data"
    }
   ],
   "source": [
    "ind = np.arange(5)\n",
    "w = 0.4\n",
    "show_props = [nb_show_prop, ch_show_prop, teen_show_prop, adl_show_prop, eld_show_prop]\n",
    "miss_props = [nb_miss_prop, ch_miss_prop, teen_miss_prop, adl_miss_prop, eld_miss_prop]\n",
    "show_bars = plt.bar(ind, show_props, w, color='b', label='Show Props')\n",
    "miss_bars = plt.bar(ind+w, miss_props, w, color='r', label='Miss Props')\n",
    "bar('Age Groups', 'Proportions', 'Props across age groups')\n",
    "locations = ind + w / 2  \n",
    "labels = ['Newborns', 'Children', 'Teens', 'Adults', 'Elderly']\n",
    "plt.xticks(locations, labels)\n",
    "plt.grid(alpha= .4)\n",
    "plt.legend();"
   ]
  },
  {
   "cell_type": "markdown",
   "metadata": {},
   "source": [
    "Miss proportions for the different age groups are **normally distributed**. (red bars)"
   ]
  },
  {
   "cell_type": "markdown",
   "metadata": {},
   "source": [
    "### Statistical Test: (Chi-Square)\n",
    "Chi-Square test was performed using an <a href='https://www.socscistatistics.com/tests/chisquare2/default2.aspx'>online calculator</a> at CI of 95%\n",
    "\n",
    "\n",
    "The chi-square statistic is 509.57\n",
    "\n",
    "The p-value is < 0.00001\n",
    "\n",
    "The result is **significant** at p < .05"
   ]
  },
  {
   "cell_type": "markdown",
   "metadata": {},
   "source": [
    "<a id='conclusions'></a>\n",
    "## Conclusions"
   ]
  },
  {
   "cell_type": "markdown",
   "metadata": {
    "collapsed": true
   },
   "source": [
    "### Showing up for the appointment:\n",
    ">79.8% of the sample showed for their appointments while 20.2% missed them."
   ]
  },
  {
   "cell_type": "markdown",
   "metadata": {},
   "source": [
    "### Gender vs Showing:\n",
    "> Statistical test shows that there is **NO significant association** between gender and showing for the appointments."
   ]
  },
  {
   "cell_type": "markdown",
   "metadata": {},
   "source": [
    "### Location of the Hospital:\n",
    "* There are **81** different hospital locations.\n",
    "* Mean number of appointments in different locations is 1364.52 with min of 1 and max of 7717.\n",
    "* Neighbourhood with the **most** appointments is **JARDIM CAMBURI** with **7717** appointments.\n",
    "* Neighbourhood with the **least** appointments is **PARQUE INDUSTRIAL** with **1** appointment.\n",
    "* Area with the highest **show** proportion is **PARQUE INDUSTRIAL (1.0)**.\n",
    "* Area with the highest **miss** proportion is **ILHAS OCEÂNICAS DE TRINDADE (1.0)**."
   ]
  },
  {
   "cell_type": "markdown",
   "metadata": {},
   "source": [
    "### Enrollment in Welfare Program vs Showing:\n",
    ">Statistical test shows that there **IS a significant association** between Enrollment in Welfare Program and showing for the appointments, where Non Enrolled patients tend to show for their appointments more than Enrolled patients."
   ]
  },
  {
   "cell_type": "markdown",
   "metadata": {},
   "source": [
    "### SMS Confirmation vs Showing:\n",
    ">Statistical test shows that there **IS a significant association** between receiving SMS confirmation and showing for the appointments, where, contrary to what is expected, patients who **DID NOT** receive SMS confirmation show for their appointments more than those who did."
   ]
  },
  {
   "cell_type": "markdown",
   "metadata": {},
   "source": [
    "### Age vs Showing:\n",
    "* Miss proportions for the different age groups are **normally distributed**.\n",
    "* Statistical tests show that there **IS a significant association** between age and showing for the appointments."
   ]
  },
  {
   "cell_type": "markdown",
   "metadata": {},
   "source": [
    "### Final Conclusion:\n",
    ">Factors that affect whether patients would show for or miss their appointments are:\n",
    ">* Age\n",
    ">* Enrollment in Welfare Program\n",
    ">* SMS Confirmation"
   ]
  },
  {
   "cell_type": "markdown",
   "metadata": {},
   "source": [
    "### Limitations:\n",
    "* Some factors that may affect showing for the appointment were missing from the data as: distance between the patient and the hospital, and the treating physician.\n",
    "* Data collected for some areas was too small, namely: PARQUE INDUSTRIAL and ILHAS OCEÂNICAS DE TRINDADE."
   ]
  }
 ],
 "metadata": {
  "kernelspec": {
   "display_name": "Python 3 (ipykernel)",
   "language": "python",
   "name": "python3"
  },
  "language_info": {
   "codemirror_mode": {
    "name": "ipython",
    "version": 3
   },
   "file_extension": ".py",
   "mimetype": "text/x-python",
   "name": "python",
   "nbconvert_exporter": "python",
   "pygments_lexer": "ipython3",
   "version": "3.9.7"
  }
 },
 "nbformat": 4,
 "nbformat_minor": 2
}
